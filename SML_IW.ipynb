{
  "cells": [
    {
      "cell_type": "markdown",
      "metadata": {
        "id": "oQ8t_iOjkQvY"
      },
      "source": [
        "# Setup"
      ]
    },
    {
      "cell_type": "code",
      "execution_count": 30,
      "metadata": {
        "colab": {
          "base_uri": "https://localhost:8080/"
        },
        "id": "lFXOFXdrTVuW",
        "outputId": "07534301-145f-46c8-a989-4145a05b7658"
      },
      "outputs": [
        {
          "output_type": "stream",
          "name": "stdout",
          "text": [
            "Drive already mounted at /content/drive; to attempt to forcibly remount, call drive.mount(\"/content/drive\", force_remount=True).\n"
          ]
        }
      ],
      "source": [
        "from google.colab import drive\n",
        "drive.mount('/content/drive')"
      ]
    },
    {
      "cell_type": "code",
      "execution_count": 31,
      "metadata": {
        "colab": {
          "base_uri": "https://localhost:8080/"
        },
        "id": "BB4NlsRURSn-",
        "outputId": "db9582c1-1bdf-427a-e915-ea9ffe37bd6d"
      },
      "outputs": [
        {
          "output_type": "stream",
          "name": "stdout",
          "text": [
            "Requirement already satisfied: surprise in /usr/local/lib/python3.7/dist-packages (0.1)\n",
            "Requirement already satisfied: scikit-surprise in /usr/local/lib/python3.7/dist-packages (from surprise) (1.1.1)\n",
            "Requirement already satisfied: joblib>=0.11 in /usr/local/lib/python3.7/dist-packages (from scikit-surprise->surprise) (1.1.0)\n",
            "Requirement already satisfied: six>=1.10.0 in /usr/local/lib/python3.7/dist-packages (from scikit-surprise->surprise) (1.15.0)\n",
            "Requirement already satisfied: numpy>=1.11.2 in /usr/local/lib/python3.7/dist-packages (from scikit-surprise->surprise) (1.21.6)\n",
            "Requirement already satisfied: scipy>=1.0.0 in /usr/local/lib/python3.7/dist-packages (from scikit-surprise->surprise) (1.4.1)\n"
          ]
        }
      ],
      "source": [
        "!pip install surprise"
      ]
    },
    {
      "cell_type": "code",
      "execution_count": 32,
      "metadata": {
        "id": "oLroQ6P8QtEC"
      },
      "outputs": [],
      "source": [
        "import os\n",
        "import json\n",
        "import numpy as np\n",
        "import pandas as pd\n",
        "import time\n",
        "from surprise import Dataset\n",
        "from surprise import Reader\n",
        "from surprise import dump\n",
        "from surprise import SVD\n",
        "from surprise import accuracy\n",
        "from surprise.model_selection import cross_validate, train_test_split\n",
        "from surprise.model_selection import GridSearchCV\n",
        "from tqdm import tqdm\n",
        "\n",
        "from sklearn.metrics import r2_score\n",
        "from sklearn.metrics import mean_absolute_error\n",
        "from sklearn.metrics import confusion_matrix, classification_report\n",
        "import sklearn.metrics as metrics\n",
        "from sklearn.metrics import mean_squared_error\n",
        "from scipy import stats\n",
        "import matplotlib.pyplot as plt\n",
        "from functools import reduce"
      ]
    },
    {
      "cell_type": "code",
      "execution_count": 33,
      "metadata": {
        "colab": {
          "base_uri": "https://localhost:8080/"
        },
        "id": "WXm0G_Ogk0vW",
        "outputId": "2dcd5621-ba41-4de7-8446-ee5eeeee40d3"
      },
      "outputs": [
        {
          "output_type": "stream",
          "name": "stdout",
          "text": [
            "[nltk_data] Downloading package vader_lexicon to /root/nltk_data...\n",
            "[nltk_data]   Package vader_lexicon is already up-to-date!\n"
          ]
        }
      ],
      "source": [
        "from textblob import TextBlob\n",
        "import nltk\n",
        "nltk.download('vader_lexicon')\n",
        "from nltk.sentiment.vader import SentimentIntensityAnalyzer"
      ]
    },
    {
      "cell_type": "markdown",
      "metadata": {
        "id": "RhHtWpsGj8Gw"
      },
      "source": [
        "# Data Processing\n",
        "\n"
      ]
    },
    {
      "cell_type": "code",
      "execution_count": 34,
      "metadata": {
        "colab": {
          "base_uri": "https://localhost:8080/",
          "height": 513
        },
        "id": "uaBxQ3ixYvmu",
        "outputId": "7eb3133c-473e-47f7-8cdf-08b67593ba8d"
      },
      "outputs": [
        {
          "output_type": "execute_result",
          "data": {
            "text/plain": [
              "              business_id                   business_name  \\\n",
              "0  MTSW4McQd7CbVtyjqoe9mw              St Honore Pastries   \n",
              "1  0bPLkL0QhhPO5kt1_EXmNQ            Zio's Italian Market   \n",
              "2  MUTTqe8uqyMdBl186RmNeA                        Tuna Bar   \n",
              "3  ROeacJQwBeh05Rqg7F6TCg                             BAP   \n",
              "4  WKMJwqnfZKsAae75RMP6jA  Roast Coffeehouse and Wine Bar   \n",
              "\n",
              "      business_address business_city business_state  business_latitude  \\\n",
              "0          935 Race St  Philadelphia             PA          39.955505   \n",
              "1        2575 E Bay Dr         Largo             FL          27.916116   \n",
              "2          205 Race St  Philadelphia             PA          39.953949   \n",
              "3        1224 South St  Philadelphia             PA          39.943223   \n",
              "4  10359 104 Street NW      Edmonton             AB          53.546045   \n",
              "\n",
              "   business_longitude  stars  review_counts  is_open  \\\n",
              "0          -75.155564    4.0             80        1   \n",
              "1          -82.760461    4.5            100        0   \n",
              "2          -75.143226    4.0            245        1   \n",
              "3          -75.162568    4.5            205        1   \n",
              "4         -113.499169    4.0             40        0   \n",
              "\n",
              "                                          categories  \n",
              "0  Restaurants, Food, Bubble Tea, Coffee & Tea, B...  \n",
              "1        Food, Delis, Italian, Bakeries, Restaurants  \n",
              "2                  Sushi Bars, Restaurants, Japanese  \n",
              "3                                Korean, Restaurants  \n",
              "4  Coffee & Tea, Food, Cafes, Bars, Wine Bars, Re...  "
            ],
            "text/html": [
              "\n",
              "  <div id=\"df-a97acc11-e6d2-4776-b0d5-f246b115499e\">\n",
              "    <div class=\"colab-df-container\">\n",
              "      <div>\n",
              "<style scoped>\n",
              "    .dataframe tbody tr th:only-of-type {\n",
              "        vertical-align: middle;\n",
              "    }\n",
              "\n",
              "    .dataframe tbody tr th {\n",
              "        vertical-align: top;\n",
              "    }\n",
              "\n",
              "    .dataframe thead th {\n",
              "        text-align: right;\n",
              "    }\n",
              "</style>\n",
              "<table border=\"1\" class=\"dataframe\">\n",
              "  <thead>\n",
              "    <tr style=\"text-align: right;\">\n",
              "      <th></th>\n",
              "      <th>business_id</th>\n",
              "      <th>business_name</th>\n",
              "      <th>business_address</th>\n",
              "      <th>business_city</th>\n",
              "      <th>business_state</th>\n",
              "      <th>business_latitude</th>\n",
              "      <th>business_longitude</th>\n",
              "      <th>stars</th>\n",
              "      <th>review_counts</th>\n",
              "      <th>is_open</th>\n",
              "      <th>categories</th>\n",
              "    </tr>\n",
              "  </thead>\n",
              "  <tbody>\n",
              "    <tr>\n",
              "      <th>0</th>\n",
              "      <td>MTSW4McQd7CbVtyjqoe9mw</td>\n",
              "      <td>St Honore Pastries</td>\n",
              "      <td>935 Race St</td>\n",
              "      <td>Philadelphia</td>\n",
              "      <td>PA</td>\n",
              "      <td>39.955505</td>\n",
              "      <td>-75.155564</td>\n",
              "      <td>4.0</td>\n",
              "      <td>80</td>\n",
              "      <td>1</td>\n",
              "      <td>Restaurants, Food, Bubble Tea, Coffee &amp; Tea, B...</td>\n",
              "    </tr>\n",
              "    <tr>\n",
              "      <th>1</th>\n",
              "      <td>0bPLkL0QhhPO5kt1_EXmNQ</td>\n",
              "      <td>Zio's Italian Market</td>\n",
              "      <td>2575 E Bay Dr</td>\n",
              "      <td>Largo</td>\n",
              "      <td>FL</td>\n",
              "      <td>27.916116</td>\n",
              "      <td>-82.760461</td>\n",
              "      <td>4.5</td>\n",
              "      <td>100</td>\n",
              "      <td>0</td>\n",
              "      <td>Food, Delis, Italian, Bakeries, Restaurants</td>\n",
              "    </tr>\n",
              "    <tr>\n",
              "      <th>2</th>\n",
              "      <td>MUTTqe8uqyMdBl186RmNeA</td>\n",
              "      <td>Tuna Bar</td>\n",
              "      <td>205 Race St</td>\n",
              "      <td>Philadelphia</td>\n",
              "      <td>PA</td>\n",
              "      <td>39.953949</td>\n",
              "      <td>-75.143226</td>\n",
              "      <td>4.0</td>\n",
              "      <td>245</td>\n",
              "      <td>1</td>\n",
              "      <td>Sushi Bars, Restaurants, Japanese</td>\n",
              "    </tr>\n",
              "    <tr>\n",
              "      <th>3</th>\n",
              "      <td>ROeacJQwBeh05Rqg7F6TCg</td>\n",
              "      <td>BAP</td>\n",
              "      <td>1224 South St</td>\n",
              "      <td>Philadelphia</td>\n",
              "      <td>PA</td>\n",
              "      <td>39.943223</td>\n",
              "      <td>-75.162568</td>\n",
              "      <td>4.5</td>\n",
              "      <td>205</td>\n",
              "      <td>1</td>\n",
              "      <td>Korean, Restaurants</td>\n",
              "    </tr>\n",
              "    <tr>\n",
              "      <th>4</th>\n",
              "      <td>WKMJwqnfZKsAae75RMP6jA</td>\n",
              "      <td>Roast Coffeehouse and Wine Bar</td>\n",
              "      <td>10359 104 Street NW</td>\n",
              "      <td>Edmonton</td>\n",
              "      <td>AB</td>\n",
              "      <td>53.546045</td>\n",
              "      <td>-113.499169</td>\n",
              "      <td>4.0</td>\n",
              "      <td>40</td>\n",
              "      <td>0</td>\n",
              "      <td>Coffee &amp; Tea, Food, Cafes, Bars, Wine Bars, Re...</td>\n",
              "    </tr>\n",
              "  </tbody>\n",
              "</table>\n",
              "</div>\n",
              "      <button class=\"colab-df-convert\" onclick=\"convertToInteractive('df-a97acc11-e6d2-4776-b0d5-f246b115499e')\"\n",
              "              title=\"Convert this dataframe to an interactive table.\"\n",
              "              style=\"display:none;\">\n",
              "        \n",
              "  <svg xmlns=\"http://www.w3.org/2000/svg\" height=\"24px\"viewBox=\"0 0 24 24\"\n",
              "       width=\"24px\">\n",
              "    <path d=\"M0 0h24v24H0V0z\" fill=\"none\"/>\n",
              "    <path d=\"M18.56 5.44l.94 2.06.94-2.06 2.06-.94-2.06-.94-.94-2.06-.94 2.06-2.06.94zm-11 1L8.5 8.5l.94-2.06 2.06-.94-2.06-.94L8.5 2.5l-.94 2.06-2.06.94zm10 10l.94 2.06.94-2.06 2.06-.94-2.06-.94-.94-2.06-.94 2.06-2.06.94z\"/><path d=\"M17.41 7.96l-1.37-1.37c-.4-.4-.92-.59-1.43-.59-.52 0-1.04.2-1.43.59L10.3 9.45l-7.72 7.72c-.78.78-.78 2.05 0 2.83L4 21.41c.39.39.9.59 1.41.59.51 0 1.02-.2 1.41-.59l7.78-7.78 2.81-2.81c.8-.78.8-2.07 0-2.86zM5.41 20L4 18.59l7.72-7.72 1.47 1.35L5.41 20z\"/>\n",
              "  </svg>\n",
              "      </button>\n",
              "      \n",
              "  <style>\n",
              "    .colab-df-container {\n",
              "      display:flex;\n",
              "      flex-wrap:wrap;\n",
              "      gap: 12px;\n",
              "    }\n",
              "\n",
              "    .colab-df-convert {\n",
              "      background-color: #E8F0FE;\n",
              "      border: none;\n",
              "      border-radius: 50%;\n",
              "      cursor: pointer;\n",
              "      display: none;\n",
              "      fill: #1967D2;\n",
              "      height: 32px;\n",
              "      padding: 0 0 0 0;\n",
              "      width: 32px;\n",
              "    }\n",
              "\n",
              "    .colab-df-convert:hover {\n",
              "      background-color: #E2EBFA;\n",
              "      box-shadow: 0px 1px 2px rgba(60, 64, 67, 0.3), 0px 1px 3px 1px rgba(60, 64, 67, 0.15);\n",
              "      fill: #174EA6;\n",
              "    }\n",
              "\n",
              "    [theme=dark] .colab-df-convert {\n",
              "      background-color: #3B4455;\n",
              "      fill: #D2E3FC;\n",
              "    }\n",
              "\n",
              "    [theme=dark] .colab-df-convert:hover {\n",
              "      background-color: #434B5C;\n",
              "      box-shadow: 0px 1px 3px 1px rgba(0, 0, 0, 0.15);\n",
              "      filter: drop-shadow(0px 1px 2px rgba(0, 0, 0, 0.3));\n",
              "      fill: #FFFFFF;\n",
              "    }\n",
              "  </style>\n",
              "\n",
              "      <script>\n",
              "        const buttonEl =\n",
              "          document.querySelector('#df-a97acc11-e6d2-4776-b0d5-f246b115499e button.colab-df-convert');\n",
              "        buttonEl.style.display =\n",
              "          google.colab.kernel.accessAllowed ? 'block' : 'none';\n",
              "\n",
              "        async function convertToInteractive(key) {\n",
              "          const element = document.querySelector('#df-a97acc11-e6d2-4776-b0d5-f246b115499e');\n",
              "          const dataTable =\n",
              "            await google.colab.kernel.invokeFunction('convertToInteractive',\n",
              "                                                     [key], {});\n",
              "          if (!dataTable) return;\n",
              "\n",
              "          const docLinkHtml = 'Like what you see? Visit the ' +\n",
              "            '<a target=\"_blank\" href=https://colab.research.google.com/notebooks/data_table.ipynb>data table notebook</a>'\n",
              "            + ' to learn more about interactive tables.';\n",
              "          element.innerHTML = '';\n",
              "          dataTable['output_type'] = 'display_data';\n",
              "          await google.colab.output.renderOutput(dataTable, element);\n",
              "          const docLink = document.createElement('div');\n",
              "          docLink.innerHTML = docLinkHtml;\n",
              "          element.appendChild(docLink);\n",
              "        }\n",
              "      </script>\n",
              "    </div>\n",
              "  </div>\n",
              "  "
            ]
          },
          "metadata": {},
          "execution_count": 34
        }
      ],
      "source": [
        "business_path = \"/content/drive/MyDrive/SML IW/yelp_academic_dataset_business.json\"\n",
        "\n",
        "business_ids, names, addresses, cities, states, latitudes, longitudes, stars, review_counts, is_open, categories = [], [], [], [], [], [], [], [], [], [], []\n",
        "with open(business_path) as f:\n",
        "    for i, line in enumerate(f):\n",
        "        blob = json.loads(line)\n",
        "        all_categories = blob[\"categories\"]\n",
        "        if all_categories != None:\n",
        "          if \"Restaurants\" in all_categories or \"Food\" in all_categories:\n",
        "            if blob[\"review_count\"] > 30:          \n",
        "              business_ids += [blob[\"business_id\"]]\n",
        "              names += [blob[\"name\"]]\n",
        "              addresses += [blob[\"address\"]]\n",
        "              cities += [blob[\"city\"]]\n",
        "              states += [blob[\"state\"]]\n",
        "              latitudes += [blob[\"latitude\"]]\n",
        "              longitudes += [blob[\"longitude\"]]\n",
        "              stars += [blob[\"stars\"]]\n",
        "              review_counts += [blob[\"review_count\"]]\n",
        "              is_open += [blob[\"is_open\"]]\n",
        "              categories += [blob[\"categories\"]]\n",
        "        \n",
        "business_ = pd.DataFrame(\n",
        "    {\"business_id\": business_ids, \n",
        "     \"business_name\": names,\n",
        "     \"business_address\": addresses,\n",
        "     \"business_city\": cities, \n",
        "     \"business_state\": states, \n",
        "     \"business_latitude\": latitudes, \n",
        "     \"business_longitude\": longitudes, \n",
        "     \"stars\": stars, \n",
        "     \"review_counts\": review_counts, \n",
        "     \"is_open\": is_open,\n",
        "     \"categories\": categories}\n",
        ")\n",
        "\n",
        "business_.head()\n"
      ]
    },
    {
      "cell_type": "code",
      "execution_count": 36,
      "metadata": {
        "colab": {
          "base_uri": "https://localhost:8080/",
          "height": 357
        },
        "id": "AC7KdyjJB8Qy",
        "outputId": "4e9ded58-b7f7-4701-8769-5e90f50a71f7"
      },
      "outputs": [
        {
          "output_type": "execute_result",
          "data": {
            "text/plain": [
              "                  user_id user_name  user_review_count      user_yelp_since  \\\n",
              "0  qVc8ODYU5SZjKXVBgXdI7w    Walker                585  2007-01-25 16:47:26   \n",
              "1  j14WgRoU_-2ZE1aw1dXrJg    Daniel               4333  2009-01-25 04:35:42   \n",
              "2  2WnXYQFK0hXEoTxPtV2zvg     Steph                665  2008-07-25 10:41:00   \n",
              "3  SZDeASXq7o05mMNLshsdIA      Gwen                224  2005-11-29 04:38:33   \n",
              "4  hA5lMy-EnncsH4JoR-hFGQ     Karen                 79  2007-01-05 19:40:59   \n",
              "\n",
              "                                             friends  useful_reviews  \\\n",
              "0  NSCy54eWehBJyZdG2iE84w, pe42u7DcCH2QmI81NX-8qA...            7217   \n",
              "1  ueRPE0CX75ePGMqOFVj6IQ, 52oH4DrRvzzl8wh5UXyU0A...           43091   \n",
              "2  LuO3Bn4f3rlhyHIaNfTlnA, j9B4XdHUhDfTKVecyWQgyA...            2086   \n",
              "3  enx1vVPnfdNUdPho6PH_wg, 4wOcvMLtU6a9Lslggq74Vg...             512   \n",
              "4  PBK4q9KEEBHhFvSXCUirIw, 3FWPpM7KU1gXeOM_ZbYMbA...              29   \n",
              "\n",
              "   funny_reviews  cool_reviews  n_fans  \\\n",
              "0           1259          5994     267   \n",
              "1          13066         27281    3138   \n",
              "2           1010          1003      52   \n",
              "3            330           299      28   \n",
              "4             15             7       1   \n",
              "\n",
              "                                         years_elite  average_stars  \n",
              "0                                               2007           3.91  \n",
              "1  2009,2010,2011,2012,2013,2014,2015,2016,2017,2...           3.74  \n",
              "2                           2009,2010,2011,2012,2013           3.32  \n",
              "3                                     2009,2010,2011           4.27  \n",
              "4                                                              3.54  "
            ],
            "text/html": [
              "\n",
              "  <div id=\"df-46631bce-8c70-413b-9e83-335a1957a725\">\n",
              "    <div class=\"colab-df-container\">\n",
              "      <div>\n",
              "<style scoped>\n",
              "    .dataframe tbody tr th:only-of-type {\n",
              "        vertical-align: middle;\n",
              "    }\n",
              "\n",
              "    .dataframe tbody tr th {\n",
              "        vertical-align: top;\n",
              "    }\n",
              "\n",
              "    .dataframe thead th {\n",
              "        text-align: right;\n",
              "    }\n",
              "</style>\n",
              "<table border=\"1\" class=\"dataframe\">\n",
              "  <thead>\n",
              "    <tr style=\"text-align: right;\">\n",
              "      <th></th>\n",
              "      <th>user_id</th>\n",
              "      <th>user_name</th>\n",
              "      <th>user_review_count</th>\n",
              "      <th>user_yelp_since</th>\n",
              "      <th>friends</th>\n",
              "      <th>useful_reviews</th>\n",
              "      <th>funny_reviews</th>\n",
              "      <th>cool_reviews</th>\n",
              "      <th>n_fans</th>\n",
              "      <th>years_elite</th>\n",
              "      <th>average_stars</th>\n",
              "    </tr>\n",
              "  </thead>\n",
              "  <tbody>\n",
              "    <tr>\n",
              "      <th>0</th>\n",
              "      <td>qVc8ODYU5SZjKXVBgXdI7w</td>\n",
              "      <td>Walker</td>\n",
              "      <td>585</td>\n",
              "      <td>2007-01-25 16:47:26</td>\n",
              "      <td>NSCy54eWehBJyZdG2iE84w, pe42u7DcCH2QmI81NX-8qA...</td>\n",
              "      <td>7217</td>\n",
              "      <td>1259</td>\n",
              "      <td>5994</td>\n",
              "      <td>267</td>\n",
              "      <td>2007</td>\n",
              "      <td>3.91</td>\n",
              "    </tr>\n",
              "    <tr>\n",
              "      <th>1</th>\n",
              "      <td>j14WgRoU_-2ZE1aw1dXrJg</td>\n",
              "      <td>Daniel</td>\n",
              "      <td>4333</td>\n",
              "      <td>2009-01-25 04:35:42</td>\n",
              "      <td>ueRPE0CX75ePGMqOFVj6IQ, 52oH4DrRvzzl8wh5UXyU0A...</td>\n",
              "      <td>43091</td>\n",
              "      <td>13066</td>\n",
              "      <td>27281</td>\n",
              "      <td>3138</td>\n",
              "      <td>2009,2010,2011,2012,2013,2014,2015,2016,2017,2...</td>\n",
              "      <td>3.74</td>\n",
              "    </tr>\n",
              "    <tr>\n",
              "      <th>2</th>\n",
              "      <td>2WnXYQFK0hXEoTxPtV2zvg</td>\n",
              "      <td>Steph</td>\n",
              "      <td>665</td>\n",
              "      <td>2008-07-25 10:41:00</td>\n",
              "      <td>LuO3Bn4f3rlhyHIaNfTlnA, j9B4XdHUhDfTKVecyWQgyA...</td>\n",
              "      <td>2086</td>\n",
              "      <td>1010</td>\n",
              "      <td>1003</td>\n",
              "      <td>52</td>\n",
              "      <td>2009,2010,2011,2012,2013</td>\n",
              "      <td>3.32</td>\n",
              "    </tr>\n",
              "    <tr>\n",
              "      <th>3</th>\n",
              "      <td>SZDeASXq7o05mMNLshsdIA</td>\n",
              "      <td>Gwen</td>\n",
              "      <td>224</td>\n",
              "      <td>2005-11-29 04:38:33</td>\n",
              "      <td>enx1vVPnfdNUdPho6PH_wg, 4wOcvMLtU6a9Lslggq74Vg...</td>\n",
              "      <td>512</td>\n",
              "      <td>330</td>\n",
              "      <td>299</td>\n",
              "      <td>28</td>\n",
              "      <td>2009,2010,2011</td>\n",
              "      <td>4.27</td>\n",
              "    </tr>\n",
              "    <tr>\n",
              "      <th>4</th>\n",
              "      <td>hA5lMy-EnncsH4JoR-hFGQ</td>\n",
              "      <td>Karen</td>\n",
              "      <td>79</td>\n",
              "      <td>2007-01-05 19:40:59</td>\n",
              "      <td>PBK4q9KEEBHhFvSXCUirIw, 3FWPpM7KU1gXeOM_ZbYMbA...</td>\n",
              "      <td>29</td>\n",
              "      <td>15</td>\n",
              "      <td>7</td>\n",
              "      <td>1</td>\n",
              "      <td></td>\n",
              "      <td>3.54</td>\n",
              "    </tr>\n",
              "  </tbody>\n",
              "</table>\n",
              "</div>\n",
              "      <button class=\"colab-df-convert\" onclick=\"convertToInteractive('df-46631bce-8c70-413b-9e83-335a1957a725')\"\n",
              "              title=\"Convert this dataframe to an interactive table.\"\n",
              "              style=\"display:none;\">\n",
              "        \n",
              "  <svg xmlns=\"http://www.w3.org/2000/svg\" height=\"24px\"viewBox=\"0 0 24 24\"\n",
              "       width=\"24px\">\n",
              "    <path d=\"M0 0h24v24H0V0z\" fill=\"none\"/>\n",
              "    <path d=\"M18.56 5.44l.94 2.06.94-2.06 2.06-.94-2.06-.94-.94-2.06-.94 2.06-2.06.94zm-11 1L8.5 8.5l.94-2.06 2.06-.94-2.06-.94L8.5 2.5l-.94 2.06-2.06.94zm10 10l.94 2.06.94-2.06 2.06-.94-2.06-.94-.94-2.06-.94 2.06-2.06.94z\"/><path d=\"M17.41 7.96l-1.37-1.37c-.4-.4-.92-.59-1.43-.59-.52 0-1.04.2-1.43.59L10.3 9.45l-7.72 7.72c-.78.78-.78 2.05 0 2.83L4 21.41c.39.39.9.59 1.41.59.51 0 1.02-.2 1.41-.59l7.78-7.78 2.81-2.81c.8-.78.8-2.07 0-2.86zM5.41 20L4 18.59l7.72-7.72 1.47 1.35L5.41 20z\"/>\n",
              "  </svg>\n",
              "      </button>\n",
              "      \n",
              "  <style>\n",
              "    .colab-df-container {\n",
              "      display:flex;\n",
              "      flex-wrap:wrap;\n",
              "      gap: 12px;\n",
              "    }\n",
              "\n",
              "    .colab-df-convert {\n",
              "      background-color: #E8F0FE;\n",
              "      border: none;\n",
              "      border-radius: 50%;\n",
              "      cursor: pointer;\n",
              "      display: none;\n",
              "      fill: #1967D2;\n",
              "      height: 32px;\n",
              "      padding: 0 0 0 0;\n",
              "      width: 32px;\n",
              "    }\n",
              "\n",
              "    .colab-df-convert:hover {\n",
              "      background-color: #E2EBFA;\n",
              "      box-shadow: 0px 1px 2px rgba(60, 64, 67, 0.3), 0px 1px 3px 1px rgba(60, 64, 67, 0.15);\n",
              "      fill: #174EA6;\n",
              "    }\n",
              "\n",
              "    [theme=dark] .colab-df-convert {\n",
              "      background-color: #3B4455;\n",
              "      fill: #D2E3FC;\n",
              "    }\n",
              "\n",
              "    [theme=dark] .colab-df-convert:hover {\n",
              "      background-color: #434B5C;\n",
              "      box-shadow: 0px 1px 3px 1px rgba(0, 0, 0, 0.15);\n",
              "      filter: drop-shadow(0px 1px 2px rgba(0, 0, 0, 0.3));\n",
              "      fill: #FFFFFF;\n",
              "    }\n",
              "  </style>\n",
              "\n",
              "      <script>\n",
              "        const buttonEl =\n",
              "          document.querySelector('#df-46631bce-8c70-413b-9e83-335a1957a725 button.colab-df-convert');\n",
              "        buttonEl.style.display =\n",
              "          google.colab.kernel.accessAllowed ? 'block' : 'none';\n",
              "\n",
              "        async function convertToInteractive(key) {\n",
              "          const element = document.querySelector('#df-46631bce-8c70-413b-9e83-335a1957a725');\n",
              "          const dataTable =\n",
              "            await google.colab.kernel.invokeFunction('convertToInteractive',\n",
              "                                                     [key], {});\n",
              "          if (!dataTable) return;\n",
              "\n",
              "          const docLinkHtml = 'Like what you see? Visit the ' +\n",
              "            '<a target=\"_blank\" href=https://colab.research.google.com/notebooks/data_table.ipynb>data table notebook</a>'\n",
              "            + ' to learn more about interactive tables.';\n",
              "          element.innerHTML = '';\n",
              "          dataTable['output_type'] = 'display_data';\n",
              "          await google.colab.output.renderOutput(dataTable, element);\n",
              "          const docLink = document.createElement('div');\n",
              "          docLink.innerHTML = docLinkHtml;\n",
              "          element.appendChild(docLink);\n",
              "        }\n",
              "      </script>\n",
              "    </div>\n",
              "  </div>\n",
              "  "
            ]
          },
          "metadata": {},
          "execution_count": 36
        }
      ],
      "source": [
        "# LOAD USER DATA\n",
        "\n",
        "user_path = \"/content/drive/MyDrive/SML IW/yelp_academic_dataset_user.json\"\n",
        "\n",
        "# stop = 5000000\n",
        "\n",
        "users, names, review_counts, since, friends, useful, \\\n",
        "            funny, cool, n_fans, years_elite, average_stars = [], [], [], [], [], [], [], [], [], [], []\n",
        "with open(user_path) as f:\n",
        "    for i, line in enumerate(f):\n",
        "        # if i == stop:\n",
        "        #   break\n",
        "        blob = json.loads(line)\n",
        "        if blob[\"review_count\"] > 20:\n",
        "          users += [blob[\"user_id\"]]\n",
        "          names += [blob[\"name\"]]\n",
        "          review_counts += [blob[\"review_count\"]]\n",
        "          since += [blob[\"yelping_since\"]]\n",
        "          friends += [blob[\"friends\"]]\n",
        "          useful += [blob[\"useful\"]]\n",
        "          funny += [blob[\"funny\"]]\n",
        "          cool += [blob[\"cool\"]]\n",
        "          n_fans += [blob[\"fans\"]]\n",
        "          years_elite += [blob[\"elite\"]]\n",
        "          average_stars += [blob[\"average_stars\"]]\n",
        "        \n",
        "users_ = pd.DataFrame(\n",
        "    {\"user_id\": users, \n",
        "     \"user_name\": names,\n",
        "     \"user_review_count\": review_counts,\n",
        "     \"user_yelp_since\": since,\n",
        "     \"friends\": friends,\n",
        "     \"useful_reviews\": useful,\n",
        "     \"funny_reviews\": funny,\n",
        "     \"cool_reviews\": cool,\n",
        "     \"n_fans\": n_fans,\n",
        "     \"years_elite\": years_elite,\n",
        "     \"average_stars\": average_stars\n",
        "    }\n",
        ")\n",
        "\n",
        "users_.head()"
      ]
    },
    {
      "cell_type": "code",
      "execution_count": 37,
      "metadata": {
        "colab": {
          "base_uri": "https://localhost:8080/",
          "height": 337
        },
        "id": "1_vGb2mZDalS",
        "outputId": "2ada9f33-b86f-45ed-b6be-345d996647fe"
      },
      "outputs": [
        {
          "output_type": "execute_result",
          "data": {
            "text/plain": [
              "                   user_id             business_id  rating  \\\n",
              "0   mh_-eMZ6K5RLWhZyISBhwA  XQfwVwDr-v0ZS3_CbbE5Xw     3.0   \n",
              "1   OyoGAe7OKpv6SyGZT5g77Q  7ATYjTIgM3jUlt4UM3IypQ     5.0   \n",
              "2   8g_iMtfSiwikVnbP2etR0A  YjUWPpI6HXG530lwP-fb2A     3.0   \n",
              "4   bcjbaE6dDog4jkNY91ncLQ  e4Vwtrqf-wpJfwesgvdgxQ     4.0   \n",
              "10  1WHRWwQmZOZDAhp2Qyny4g  uMvVYRgGNXf5boolA9HXTw     5.0   \n",
              "\n",
              "                   date                                               text  \n",
              "0   2018-07-07 22:09:11  If you decide to eat here, just be aware it is...  \n",
              "1   2012-01-03 15:28:18  I've taken a lot of spin classes over the year...  \n",
              "2   2014-02-05 20:30:30  Family diner. Had the buffet. Eclectic assortm...  \n",
              "4   2017-01-14 20:54:15  Cute interior and owner (?) gave us tour of up...  \n",
              "10  2015-06-21 14:48:06  My experience with Shalimar was nothing but wo...  "
            ],
            "text/html": [
              "\n",
              "  <div id=\"df-1438730b-226e-4790-9884-84e0be94a04c\">\n",
              "    <div class=\"colab-df-container\">\n",
              "      <div>\n",
              "<style scoped>\n",
              "    .dataframe tbody tr th:only-of-type {\n",
              "        vertical-align: middle;\n",
              "    }\n",
              "\n",
              "    .dataframe tbody tr th {\n",
              "        vertical-align: top;\n",
              "    }\n",
              "\n",
              "    .dataframe thead th {\n",
              "        text-align: right;\n",
              "    }\n",
              "</style>\n",
              "<table border=\"1\" class=\"dataframe\">\n",
              "  <thead>\n",
              "    <tr style=\"text-align: right;\">\n",
              "      <th></th>\n",
              "      <th>user_id</th>\n",
              "      <th>business_id</th>\n",
              "      <th>rating</th>\n",
              "      <th>date</th>\n",
              "      <th>text</th>\n",
              "    </tr>\n",
              "  </thead>\n",
              "  <tbody>\n",
              "    <tr>\n",
              "      <th>0</th>\n",
              "      <td>mh_-eMZ6K5RLWhZyISBhwA</td>\n",
              "      <td>XQfwVwDr-v0ZS3_CbbE5Xw</td>\n",
              "      <td>3.0</td>\n",
              "      <td>2018-07-07 22:09:11</td>\n",
              "      <td>If you decide to eat here, just be aware it is...</td>\n",
              "    </tr>\n",
              "    <tr>\n",
              "      <th>1</th>\n",
              "      <td>OyoGAe7OKpv6SyGZT5g77Q</td>\n",
              "      <td>7ATYjTIgM3jUlt4UM3IypQ</td>\n",
              "      <td>5.0</td>\n",
              "      <td>2012-01-03 15:28:18</td>\n",
              "      <td>I've taken a lot of spin classes over the year...</td>\n",
              "    </tr>\n",
              "    <tr>\n",
              "      <th>2</th>\n",
              "      <td>8g_iMtfSiwikVnbP2etR0A</td>\n",
              "      <td>YjUWPpI6HXG530lwP-fb2A</td>\n",
              "      <td>3.0</td>\n",
              "      <td>2014-02-05 20:30:30</td>\n",
              "      <td>Family diner. Had the buffet. Eclectic assortm...</td>\n",
              "    </tr>\n",
              "    <tr>\n",
              "      <th>4</th>\n",
              "      <td>bcjbaE6dDog4jkNY91ncLQ</td>\n",
              "      <td>e4Vwtrqf-wpJfwesgvdgxQ</td>\n",
              "      <td>4.0</td>\n",
              "      <td>2017-01-14 20:54:15</td>\n",
              "      <td>Cute interior and owner (?) gave us tour of up...</td>\n",
              "    </tr>\n",
              "    <tr>\n",
              "      <th>10</th>\n",
              "      <td>1WHRWwQmZOZDAhp2Qyny4g</td>\n",
              "      <td>uMvVYRgGNXf5boolA9HXTw</td>\n",
              "      <td>5.0</td>\n",
              "      <td>2015-06-21 14:48:06</td>\n",
              "      <td>My experience with Shalimar was nothing but wo...</td>\n",
              "    </tr>\n",
              "  </tbody>\n",
              "</table>\n",
              "</div>\n",
              "      <button class=\"colab-df-convert\" onclick=\"convertToInteractive('df-1438730b-226e-4790-9884-84e0be94a04c')\"\n",
              "              title=\"Convert this dataframe to an interactive table.\"\n",
              "              style=\"display:none;\">\n",
              "        \n",
              "  <svg xmlns=\"http://www.w3.org/2000/svg\" height=\"24px\"viewBox=\"0 0 24 24\"\n",
              "       width=\"24px\">\n",
              "    <path d=\"M0 0h24v24H0V0z\" fill=\"none\"/>\n",
              "    <path d=\"M18.56 5.44l.94 2.06.94-2.06 2.06-.94-2.06-.94-.94-2.06-.94 2.06-2.06.94zm-11 1L8.5 8.5l.94-2.06 2.06-.94-2.06-.94L8.5 2.5l-.94 2.06-2.06.94zm10 10l.94 2.06.94-2.06 2.06-.94-2.06-.94-.94-2.06-.94 2.06-2.06.94z\"/><path d=\"M17.41 7.96l-1.37-1.37c-.4-.4-.92-.59-1.43-.59-.52 0-1.04.2-1.43.59L10.3 9.45l-7.72 7.72c-.78.78-.78 2.05 0 2.83L4 21.41c.39.39.9.59 1.41.59.51 0 1.02-.2 1.41-.59l7.78-7.78 2.81-2.81c.8-.78.8-2.07 0-2.86zM5.41 20L4 18.59l7.72-7.72 1.47 1.35L5.41 20z\"/>\n",
              "  </svg>\n",
              "      </button>\n",
              "      \n",
              "  <style>\n",
              "    .colab-df-container {\n",
              "      display:flex;\n",
              "      flex-wrap:wrap;\n",
              "      gap: 12px;\n",
              "    }\n",
              "\n",
              "    .colab-df-convert {\n",
              "      background-color: #E8F0FE;\n",
              "      border: none;\n",
              "      border-radius: 50%;\n",
              "      cursor: pointer;\n",
              "      display: none;\n",
              "      fill: #1967D2;\n",
              "      height: 32px;\n",
              "      padding: 0 0 0 0;\n",
              "      width: 32px;\n",
              "    }\n",
              "\n",
              "    .colab-df-convert:hover {\n",
              "      background-color: #E2EBFA;\n",
              "      box-shadow: 0px 1px 2px rgba(60, 64, 67, 0.3), 0px 1px 3px 1px rgba(60, 64, 67, 0.15);\n",
              "      fill: #174EA6;\n",
              "    }\n",
              "\n",
              "    [theme=dark] .colab-df-convert {\n",
              "      background-color: #3B4455;\n",
              "      fill: #D2E3FC;\n",
              "    }\n",
              "\n",
              "    [theme=dark] .colab-df-convert:hover {\n",
              "      background-color: #434B5C;\n",
              "      box-shadow: 0px 1px 3px 1px rgba(0, 0, 0, 0.15);\n",
              "      filter: drop-shadow(0px 1px 2px rgba(0, 0, 0, 0.3));\n",
              "      fill: #FFFFFF;\n",
              "    }\n",
              "  </style>\n",
              "\n",
              "      <script>\n",
              "        const buttonEl =\n",
              "          document.querySelector('#df-1438730b-226e-4790-9884-84e0be94a04c button.colab-df-convert');\n",
              "        buttonEl.style.display =\n",
              "          google.colab.kernel.accessAllowed ? 'block' : 'none';\n",
              "\n",
              "        async function convertToInteractive(key) {\n",
              "          const element = document.querySelector('#df-1438730b-226e-4790-9884-84e0be94a04c');\n",
              "          const dataTable =\n",
              "            await google.colab.kernel.invokeFunction('convertToInteractive',\n",
              "                                                     [key], {});\n",
              "          if (!dataTable) return;\n",
              "\n",
              "          const docLinkHtml = 'Like what you see? Visit the ' +\n",
              "            '<a target=\"_blank\" href=https://colab.research.google.com/notebooks/data_table.ipynb>data table notebook</a>'\n",
              "            + ' to learn more about interactive tables.';\n",
              "          element.innerHTML = '';\n",
              "          dataTable['output_type'] = 'display_data';\n",
              "          await google.colab.output.renderOutput(dataTable, element);\n",
              "          const docLink = document.createElement('div');\n",
              "          docLink.innerHTML = docLinkHtml;\n",
              "          element.appendChild(docLink);\n",
              "        }\n",
              "      </script>\n",
              "    </div>\n",
              "  </div>\n",
              "  "
            ]
          },
          "metadata": {},
          "execution_count": 37
        }
      ],
      "source": [
        "reviews_path = \"/content/drive/MyDrive/SML IW/yelp_academic_dataset_review.json\"\n",
        "sentiment = SentimentIntensityAnalyzer()\n",
        "\n",
        "stop = 4000000\n",
        "\n",
        "user_ids, business_ids, stars, dates, texts = [], [], [], [], []\n",
        "with open(reviews_path) as f:\n",
        "    for i, line in enumerate(f):\n",
        "        if i == stop:\n",
        "          break\n",
        "        blob = json.loads(line)\n",
        "        user_ids += [blob[\"user_id\"]]\n",
        "        business_ids += [blob[\"business_id\"]]\n",
        "        stars += [blob[\"stars\"]]\n",
        "        dates += [blob[\"date\"]]\n",
        "        texts += [blob[\"text\"]]\n",
        "ratings_ = pd.DataFrame(\n",
        "    {\"user_id\": user_ids, \"business_id\": business_ids, \"rating\": stars, \"date\": dates, \"text\": texts}\n",
        ")\n",
        "user_counts = ratings_[\"user_id\"].value_counts()\n",
        "active_users = user_counts.loc[user_counts >= 5].index.tolist()\n",
        "ratings_ = ratings_.loc[ratings_.user_id.isin(active_users)]\n",
        "ratings_.head()"
      ]
    },
    {
      "cell_type": "markdown",
      "source": [
        "# Baseline\n"
      ],
      "metadata": {
        "id": "c7fYWWpnEdM2"
      }
    },
    {
      "cell_type": "code",
      "source": [
        "baseline_df = ratings_.copy()\n",
        "print(baseline_df.shape)\n",
        "preds = business_[['business_id', 'stars']]\n",
        "merged = reduce(lambda x,y: pd.merge(x,y, on='business_id'), [baseline_df, preds])\n",
        "merged"
      ],
      "metadata": {
        "colab": {
          "base_uri": "https://localhost:8080/",
          "height": 693
        },
        "id": "Maw0oi_lEfOx",
        "outputId": "0cda058e-1227-4c78-e513-bf2223b96943"
      },
      "execution_count": 164,
      "outputs": [
        {
          "output_type": "stream",
          "name": "stdout",
          "text": [
            "(2148040, 5)\n"
          ]
        },
        {
          "output_type": "execute_result",
          "data": {
            "text/plain": [
              "                        user_id             business_id  rating  \\\n",
              "0        mh_-eMZ6K5RLWhZyISBhwA  XQfwVwDr-v0ZS3_CbbE5Xw     3.0   \n",
              "1        Iaee7y6zdSB3B-kRCo4z1w  XQfwVwDr-v0ZS3_CbbE5Xw     2.0   \n",
              "2        ejFxLGqQcWNLdNByJlIhnQ  XQfwVwDr-v0ZS3_CbbE5Xw     4.0   \n",
              "3        f7xa0p_1V9lx53iIGN5Sug  XQfwVwDr-v0ZS3_CbbE5Xw     3.0   \n",
              "4        gy7Ss1uTpCjbbGsghTvNsw  XQfwVwDr-v0ZS3_CbbE5Xw     2.0   \n",
              "...                         ...                     ...     ...   \n",
              "1496748  D3b7NcRR6Pm_1Wwv9pa5iA  0f0oRQdl5qg3GqnXaifqww     5.0   \n",
              "1496749  mYL5kFw50PFV3rAIZiJx7A  IlV0z5N0B0eqTNQ5SkBN-A     4.0   \n",
              "1496750  1T77bunKDVaLN6MvaouMMg  PZJqMdFa2zn51Td_jHOsMw     5.0   \n",
              "1496751  jrUuwjBT0vcDYnxtxPHi6A  8u70WVawnsReBWNv7IXNSg     5.0   \n",
              "1496752  8Kc20H2vZQoWyX0I0gjqgQ  7cr-FYscJgV6rDnV7Wantw     3.0   \n",
              "\n",
              "                        date  \\\n",
              "0        2018-07-07 22:09:11   \n",
              "1        2017-05-13 17:06:55   \n",
              "2        2017-08-08 00:58:18   \n",
              "3        2017-11-19 02:20:23   \n",
              "4        2017-07-29 17:12:27   \n",
              "...                      ...   \n",
              "1496748  2020-12-21 00:24:17   \n",
              "1496749  2021-04-06 11:04:54   \n",
              "1496750  2020-07-26 00:42:51   \n",
              "1496751  2021-04-17 16:37:58   \n",
              "1496752  2021-04-18 18:20:42   \n",
              "\n",
              "                                                      text  stars  \n",
              "0        If you decide to eat here, just be aware it is...    3.0  \n",
              "1        This is the second time we tried turning point...    3.0  \n",
              "2        The place is cute and the staff was very frien...    3.0  \n",
              "3        We came on a Saturday morning after waiting a ...    3.0  \n",
              "4        When I was shown to my seat of was still wet s...    3.0  \n",
              "...                                                    ...    ...  \n",
              "1496748  Absolutely amazing spicy pasta with fish. Had ...    4.0  \n",
              "1496749  Food was amazing. Had the pork chops, wedge an...    3.5  \n",
              "1496750  Went there last night with my husband. For jus...    4.5  \n",
              "1496751  Hands down best blueberry boba tea I've ever h...    4.5  \n",
              "1496752  I live next door so I walked to check it out. ...    3.5  \n",
              "\n",
              "[1496753 rows x 6 columns]"
            ],
            "text/html": [
              "\n",
              "  <div id=\"df-3b6fb9a3-b902-433c-b050-059608ca47b0\">\n",
              "    <div class=\"colab-df-container\">\n",
              "      <div>\n",
              "<style scoped>\n",
              "    .dataframe tbody tr th:only-of-type {\n",
              "        vertical-align: middle;\n",
              "    }\n",
              "\n",
              "    .dataframe tbody tr th {\n",
              "        vertical-align: top;\n",
              "    }\n",
              "\n",
              "    .dataframe thead th {\n",
              "        text-align: right;\n",
              "    }\n",
              "</style>\n",
              "<table border=\"1\" class=\"dataframe\">\n",
              "  <thead>\n",
              "    <tr style=\"text-align: right;\">\n",
              "      <th></th>\n",
              "      <th>user_id</th>\n",
              "      <th>business_id</th>\n",
              "      <th>rating</th>\n",
              "      <th>date</th>\n",
              "      <th>text</th>\n",
              "      <th>stars</th>\n",
              "    </tr>\n",
              "  </thead>\n",
              "  <tbody>\n",
              "    <tr>\n",
              "      <th>0</th>\n",
              "      <td>mh_-eMZ6K5RLWhZyISBhwA</td>\n",
              "      <td>XQfwVwDr-v0ZS3_CbbE5Xw</td>\n",
              "      <td>3.0</td>\n",
              "      <td>2018-07-07 22:09:11</td>\n",
              "      <td>If you decide to eat here, just be aware it is...</td>\n",
              "      <td>3.0</td>\n",
              "    </tr>\n",
              "    <tr>\n",
              "      <th>1</th>\n",
              "      <td>Iaee7y6zdSB3B-kRCo4z1w</td>\n",
              "      <td>XQfwVwDr-v0ZS3_CbbE5Xw</td>\n",
              "      <td>2.0</td>\n",
              "      <td>2017-05-13 17:06:55</td>\n",
              "      <td>This is the second time we tried turning point...</td>\n",
              "      <td>3.0</td>\n",
              "    </tr>\n",
              "    <tr>\n",
              "      <th>2</th>\n",
              "      <td>ejFxLGqQcWNLdNByJlIhnQ</td>\n",
              "      <td>XQfwVwDr-v0ZS3_CbbE5Xw</td>\n",
              "      <td>4.0</td>\n",
              "      <td>2017-08-08 00:58:18</td>\n",
              "      <td>The place is cute and the staff was very frien...</td>\n",
              "      <td>3.0</td>\n",
              "    </tr>\n",
              "    <tr>\n",
              "      <th>3</th>\n",
              "      <td>f7xa0p_1V9lx53iIGN5Sug</td>\n",
              "      <td>XQfwVwDr-v0ZS3_CbbE5Xw</td>\n",
              "      <td>3.0</td>\n",
              "      <td>2017-11-19 02:20:23</td>\n",
              "      <td>We came on a Saturday morning after waiting a ...</td>\n",
              "      <td>3.0</td>\n",
              "    </tr>\n",
              "    <tr>\n",
              "      <th>4</th>\n",
              "      <td>gy7Ss1uTpCjbbGsghTvNsw</td>\n",
              "      <td>XQfwVwDr-v0ZS3_CbbE5Xw</td>\n",
              "      <td>2.0</td>\n",
              "      <td>2017-07-29 17:12:27</td>\n",
              "      <td>When I was shown to my seat of was still wet s...</td>\n",
              "      <td>3.0</td>\n",
              "    </tr>\n",
              "    <tr>\n",
              "      <th>...</th>\n",
              "      <td>...</td>\n",
              "      <td>...</td>\n",
              "      <td>...</td>\n",
              "      <td>...</td>\n",
              "      <td>...</td>\n",
              "      <td>...</td>\n",
              "    </tr>\n",
              "    <tr>\n",
              "      <th>1496748</th>\n",
              "      <td>D3b7NcRR6Pm_1Wwv9pa5iA</td>\n",
              "      <td>0f0oRQdl5qg3GqnXaifqww</td>\n",
              "      <td>5.0</td>\n",
              "      <td>2020-12-21 00:24:17</td>\n",
              "      <td>Absolutely amazing spicy pasta with fish. Had ...</td>\n",
              "      <td>4.0</td>\n",
              "    </tr>\n",
              "    <tr>\n",
              "      <th>1496749</th>\n",
              "      <td>mYL5kFw50PFV3rAIZiJx7A</td>\n",
              "      <td>IlV0z5N0B0eqTNQ5SkBN-A</td>\n",
              "      <td>4.0</td>\n",
              "      <td>2021-04-06 11:04:54</td>\n",
              "      <td>Food was amazing. Had the pork chops, wedge an...</td>\n",
              "      <td>3.5</td>\n",
              "    </tr>\n",
              "    <tr>\n",
              "      <th>1496750</th>\n",
              "      <td>1T77bunKDVaLN6MvaouMMg</td>\n",
              "      <td>PZJqMdFa2zn51Td_jHOsMw</td>\n",
              "      <td>5.0</td>\n",
              "      <td>2020-07-26 00:42:51</td>\n",
              "      <td>Went there last night with my husband. For jus...</td>\n",
              "      <td>4.5</td>\n",
              "    </tr>\n",
              "    <tr>\n",
              "      <th>1496751</th>\n",
              "      <td>jrUuwjBT0vcDYnxtxPHi6A</td>\n",
              "      <td>8u70WVawnsReBWNv7IXNSg</td>\n",
              "      <td>5.0</td>\n",
              "      <td>2021-04-17 16:37:58</td>\n",
              "      <td>Hands down best blueberry boba tea I've ever h...</td>\n",
              "      <td>4.5</td>\n",
              "    </tr>\n",
              "    <tr>\n",
              "      <th>1496752</th>\n",
              "      <td>8Kc20H2vZQoWyX0I0gjqgQ</td>\n",
              "      <td>7cr-FYscJgV6rDnV7Wantw</td>\n",
              "      <td>3.0</td>\n",
              "      <td>2021-04-18 18:20:42</td>\n",
              "      <td>I live next door so I walked to check it out. ...</td>\n",
              "      <td>3.5</td>\n",
              "    </tr>\n",
              "  </tbody>\n",
              "</table>\n",
              "<p>1496753 rows × 6 columns</p>\n",
              "</div>\n",
              "      <button class=\"colab-df-convert\" onclick=\"convertToInteractive('df-3b6fb9a3-b902-433c-b050-059608ca47b0')\"\n",
              "              title=\"Convert this dataframe to an interactive table.\"\n",
              "              style=\"display:none;\">\n",
              "        \n",
              "  <svg xmlns=\"http://www.w3.org/2000/svg\" height=\"24px\"viewBox=\"0 0 24 24\"\n",
              "       width=\"24px\">\n",
              "    <path d=\"M0 0h24v24H0V0z\" fill=\"none\"/>\n",
              "    <path d=\"M18.56 5.44l.94 2.06.94-2.06 2.06-.94-2.06-.94-.94-2.06-.94 2.06-2.06.94zm-11 1L8.5 8.5l.94-2.06 2.06-.94-2.06-.94L8.5 2.5l-.94 2.06-2.06.94zm10 10l.94 2.06.94-2.06 2.06-.94-2.06-.94-.94-2.06-.94 2.06-2.06.94z\"/><path d=\"M17.41 7.96l-1.37-1.37c-.4-.4-.92-.59-1.43-.59-.52 0-1.04.2-1.43.59L10.3 9.45l-7.72 7.72c-.78.78-.78 2.05 0 2.83L4 21.41c.39.39.9.59 1.41.59.51 0 1.02-.2 1.41-.59l7.78-7.78 2.81-2.81c.8-.78.8-2.07 0-2.86zM5.41 20L4 18.59l7.72-7.72 1.47 1.35L5.41 20z\"/>\n",
              "  </svg>\n",
              "      </button>\n",
              "      \n",
              "  <style>\n",
              "    .colab-df-container {\n",
              "      display:flex;\n",
              "      flex-wrap:wrap;\n",
              "      gap: 12px;\n",
              "    }\n",
              "\n",
              "    .colab-df-convert {\n",
              "      background-color: #E8F0FE;\n",
              "      border: none;\n",
              "      border-radius: 50%;\n",
              "      cursor: pointer;\n",
              "      display: none;\n",
              "      fill: #1967D2;\n",
              "      height: 32px;\n",
              "      padding: 0 0 0 0;\n",
              "      width: 32px;\n",
              "    }\n",
              "\n",
              "    .colab-df-convert:hover {\n",
              "      background-color: #E2EBFA;\n",
              "      box-shadow: 0px 1px 2px rgba(60, 64, 67, 0.3), 0px 1px 3px 1px rgba(60, 64, 67, 0.15);\n",
              "      fill: #174EA6;\n",
              "    }\n",
              "\n",
              "    [theme=dark] .colab-df-convert {\n",
              "      background-color: #3B4455;\n",
              "      fill: #D2E3FC;\n",
              "    }\n",
              "\n",
              "    [theme=dark] .colab-df-convert:hover {\n",
              "      background-color: #434B5C;\n",
              "      box-shadow: 0px 1px 3px 1px rgba(0, 0, 0, 0.15);\n",
              "      filter: drop-shadow(0px 1px 2px rgba(0, 0, 0, 0.3));\n",
              "      fill: #FFFFFF;\n",
              "    }\n",
              "  </style>\n",
              "\n",
              "      <script>\n",
              "        const buttonEl =\n",
              "          document.querySelector('#df-3b6fb9a3-b902-433c-b050-059608ca47b0 button.colab-df-convert');\n",
              "        buttonEl.style.display =\n",
              "          google.colab.kernel.accessAllowed ? 'block' : 'none';\n",
              "\n",
              "        async function convertToInteractive(key) {\n",
              "          const element = document.querySelector('#df-3b6fb9a3-b902-433c-b050-059608ca47b0');\n",
              "          const dataTable =\n",
              "            await google.colab.kernel.invokeFunction('convertToInteractive',\n",
              "                                                     [key], {});\n",
              "          if (!dataTable) return;\n",
              "\n",
              "          const docLinkHtml = 'Like what you see? Visit the ' +\n",
              "            '<a target=\"_blank\" href=https://colab.research.google.com/notebooks/data_table.ipynb>data table notebook</a>'\n",
              "            + ' to learn more about interactive tables.';\n",
              "          element.innerHTML = '';\n",
              "          dataTable['output_type'] = 'display_data';\n",
              "          await google.colab.output.renderOutput(dataTable, element);\n",
              "          const docLink = document.createElement('div');\n",
              "          docLink.innerHTML = docLinkHtml;\n",
              "          element.appendChild(docLink);\n",
              "        }\n",
              "      </script>\n",
              "    </div>\n",
              "  </div>\n",
              "  "
            ]
          },
          "metadata": {},
          "execution_count": 164
        }
      ]
    },
    {
      "cell_type": "code",
      "source": [
        "print(\"mae: \", mean_absolute_error(merged[\"rating\"], merged[\"stars\"]))\n",
        "print(\"mse: \", mean_squared_error(merged[\"rating\"], merged[\"stars\"]))\n",
        "print(\"r^2\", r2_score(merged[\"rating\"], merged[\"stars\"]))\n",
        "\n",
        "test_ranks = pd.Series(merged[\"rating\"]).rank()\n",
        "pred_ranks = pd.Series(merged[\"stars\"]).rank()\n",
        "stats.spearmanr(test_ranks, pred_ranks)"
      ],
      "metadata": {
        "colab": {
          "base_uri": "https://localhost:8080/"
        },
        "id": "sROBmEhWE5nD",
        "outputId": "a894278a-b365-4d09-df25-2d4b0f4fdf4c"
      },
      "execution_count": 40,
      "outputs": [
        {
          "output_type": "stream",
          "name": "stdout",
          "text": [
            "mae:  0.8984341437765616\n",
            "mse:  1.3138644118301417\n",
            "r^2 0.13605237542434967\n"
          ]
        },
        {
          "output_type": "execute_result",
          "data": {
            "text/plain": [
              "SpearmanrResult(correlation=0.35955178473200905, pvalue=0.0)"
            ]
          },
          "metadata": {},
          "execution_count": 40
        }
      ]
    },
    {
      "cell_type": "markdown",
      "metadata": {
        "id": "JDqljirOpW4k"
      },
      "source": [
        "# Naive Bayes"
      ]
    },
    {
      "cell_type": "code",
      "execution_count": 41,
      "metadata": {
        "id": "hicZmmwFrkNj"
      },
      "outputs": [],
      "source": [
        "from sklearn.feature_extraction.text import TfidfVectorizer, CountVectorizer\n",
        "from sklearn import preprocessing"
      ]
    },
    {
      "cell_type": "code",
      "execution_count": 42,
      "metadata": {
        "id": "MksO6S7EyNeX"
      },
      "outputs": [],
      "source": [
        "baseline_df = ratings_.copy()"
      ]
    },
    {
      "cell_type": "code",
      "execution_count": 43,
      "metadata": {
        "id": "PXjlaJfOq-Dp"
      },
      "outputs": [],
      "source": [
        "# separating our features and target\n",
        "X = baseline_df['text']\n",
        "y = baseline_df['rating']"
      ]
    },
    {
      "cell_type": "code",
      "execution_count": 44,
      "metadata": {
        "id": "MMcTNU8PrafD"
      },
      "outputs": [],
      "source": [
        "import string \n",
        "\n",
        "# function to remove only punctuations from the review text\n",
        "def text_process(text):\n",
        "\n",
        "    '''\n",
        "    Takes in a string of text, then performs the following:\n",
        "    1. Removes all punctuation\n",
        "    2. Return the text as a list of words\n",
        "    '''\n",
        "\n",
        "    nopunc = [char for char in text if char not in string.punctuation]\n",
        "\n",
        "    nopunc = ''.join(nopunc)\n",
        "    \n",
        "    return [word for word in nopunc.split()]"
      ]
    },
    {
      "cell_type": "code",
      "execution_count": 45,
      "metadata": {
        "colab": {
          "base_uri": "https://localhost:8080/"
        },
        "id": "eafSJumaotKO",
        "outputId": "7b4b81cc-dd77-49f4-e0fb-15bcb60472f3"
      },
      "outputs": [
        {
          "output_type": "stream",
          "name": "stdout",
          "text": [
            "0          If you decide to eat here, just be aware it is...\n",
            "1          I've taken a lot of spin classes over the year...\n",
            "2          Family diner. Had the buffet. Eclectic assortm...\n",
            "4          Cute interior and owner (?) gave us tour of up...\n",
            "10         My experience with Shalimar was nothing but wo...\n",
            "                                 ...                        \n",
            "3999987    Closest Honey Green Tea to California chains t...\n",
            "3999988    I would rather pay for service here than to ta...\n",
            "3999989    I have had such a difficult time finding good ...\n",
            "3999995    Hot Damn! Authentic and fresh, these dishes we...\n",
            "3999996    Love, love, love \\n\\nTaco trio OMG. The roaste...\n",
            "Name: text, Length: 2148040, dtype: object\n"
          ]
        }
      ],
      "source": [
        "print(X)"
      ]
    },
    {
      "cell_type": "code",
      "execution_count": 46,
      "metadata": {
        "id": "uALQe89grgkU"
      },
      "outputs": [],
      "source": [
        "# creating a bag of words which consist of entire text without punctuations and fiting it\n",
        "bow_transformer = CountVectorizer().fit(X)"
      ]
    },
    {
      "cell_type": "code",
      "execution_count": 47,
      "metadata": {
        "colab": {
          "base_uri": "https://localhost:8080/"
        },
        "id": "zU5ecaSqrs6-",
        "outputId": "15592d3a-7745-4dde-c9b2-d472eb99e038"
      },
      "outputs": [
        {
          "output_type": "execute_result",
          "data": {
            "text/plain": [
              "332938"
            ]
          },
          "metadata": {},
          "execution_count": 47
        }
      ],
      "source": [
        "len(bow_transformer.vocabulary_)"
      ]
    },
    {
      "cell_type": "code",
      "execution_count": 48,
      "metadata": {
        "id": "lVI-Q9uPuMyA"
      },
      "outputs": [],
      "source": [
        "# Transform our review text\n",
        "X = bow_transformer.transform(X)"
      ]
    },
    {
      "cell_type": "code",
      "execution_count": 49,
      "metadata": {
        "colab": {
          "base_uri": "https://localhost:8080/"
        },
        "id": "4EosQzXVrtyc",
        "outputId": "859baf76-c3ae-4811-968a-398185578019"
      },
      "outputs": [
        {
          "output_type": "stream",
          "name": "stdout",
          "text": [
            "Shape of Sparse Matrix:  (2148040, 332938)\n",
            "Density: 0.022309658683514696\n"
          ]
        }
      ],
      "source": [
        "print('Shape of Sparse Matrix: ', X.shape)\n",
        "\n",
        "# Percentage of non-zero values\n",
        "density = (100.0 * X.nnz / (X.shape[0] * X.shape[1]))\n",
        "print('Density: {}'.format((density)))"
      ]
    },
    {
      "cell_type": "code",
      "execution_count": 50,
      "metadata": {
        "colab": {
          "base_uri": "https://localhost:8080/"
        },
        "id": "ck9CjfoYruao",
        "outputId": "90a97447-6e3b-4e3d-fcdd-846ee47129b5"
      },
      "outputs": [
        {
          "output_type": "stream",
          "name": "stdout",
          "text": [
            "Number transactions X_train dataset:  (1503628, 332938)\n",
            "Number transactions y_train dataset:  (1503628,)\n",
            "Number transactions X_test dataset:  (644412, 332938)\n",
            "Number transactions y_test dataset:  (644412,)\n"
          ]
        }
      ],
      "source": [
        "from sklearn.model_selection import train_test_split\n",
        "\n",
        "X_train, X_test, y_train, y_test = train_test_split(X, y, test_size=0.3, random_state=101)\n",
        "print(\"Number transactions X_train dataset: \", X_train.shape)\n",
        "print(\"Number transactions y_train dataset: \", y_train.shape)\n",
        "print(\"Number transactions X_test dataset: \", X_test.shape)\n",
        "print(\"Number transactions y_test dataset: \", y_test.shape)"
      ]
    },
    {
      "cell_type": "code",
      "execution_count": 51,
      "metadata": {
        "colab": {
          "base_uri": "https://localhost:8080/"
        },
        "id": "CXExa96dpWLY",
        "outputId": "c249e29e-ade1-4596-d73e-62d06201c522"
      },
      "outputs": [
        {
          "output_type": "execute_result",
          "data": {
            "text/plain": [
              "MultinomialNB()"
            ]
          },
          "metadata": {},
          "execution_count": 51
        }
      ],
      "source": [
        "# Let us now train the model using Multinomial Naive Bayes Algorithm\n",
        "from sklearn.naive_bayes import MultinomialNB\n",
        "\n",
        "nb = MultinomialNB()\n",
        "nb.fit(X_train, y_train)"
      ]
    },
    {
      "cell_type": "code",
      "execution_count": 52,
      "metadata": {
        "colab": {
          "base_uri": "https://localhost:8080/"
        },
        "id": "2OcB6GEqTpcY",
        "outputId": "9db3fd54-c9ee-492f-9182-64059874b849"
      },
      "outputs": [
        {
          "output_type": "stream",
          "name": "stdout",
          "text": [
            "(644412, 332938)\n",
            "798345     1.0\n",
            "1173367    5.0\n",
            "3676813    1.0\n",
            "3351626    1.0\n",
            "1440090    4.0\n",
            "          ... \n",
            "98502      5.0\n",
            "853970     4.0\n",
            "3740365    5.0\n",
            "1734272    3.0\n",
            "2651609    2.0\n",
            "Name: rating, Length: 644412, dtype: float64\n"
          ]
        }
      ],
      "source": [
        "print(X_test.shape)\n",
        "print(y_test)"
      ]
    },
    {
      "cell_type": "code",
      "execution_count": 53,
      "metadata": {
        "id": "-tdpf1ZS3QZh"
      },
      "outputs": [],
      "source": [
        "# Let us now predict on the test set\n",
        "nb_preds = nb.predict(X_test)"
      ]
    },
    {
      "cell_type": "code",
      "execution_count": 54,
      "metadata": {
        "colab": {
          "base_uri": "https://localhost:8080/"
        },
        "id": "OZv0qv513TWS",
        "outputId": "b0778bf7-ed00-41d4-bb81-6233ba751af3"
      },
      "outputs": [
        {
          "output_type": "stream",
          "name": "stdout",
          "text": [
            "mae:  0.5767304147036368\n",
            "mse:  1.0681210157476895\n",
            "r^2:  0.3809602135645621\n"
          ]
        }
      ],
      "source": [
        "print(\"mae: \", mean_absolute_error(y_test, nb_preds))\n",
        "print(\"mse: \", mean_squared_error(y_test, nb_preds))\n",
        "print(\"r^2: \", r2_score(y_test, nb_preds))"
      ]
    },
    {
      "cell_type": "code",
      "execution_count": 55,
      "metadata": {
        "id": "5G-ovUqdT56Z"
      },
      "outputs": [],
      "source": [
        "test_ranks = pd.Series(y_test).rank()\n",
        "nb_pred_ranks = pd.Series(nb_preds).rank()"
      ]
    },
    {
      "cell_type": "code",
      "execution_count": 56,
      "metadata": {
        "colab": {
          "base_uri": "https://localhost:8080/"
        },
        "id": "5B0GJqx_SYbJ",
        "outputId": "39d45991-041f-4751-eec5-f54115458946"
      },
      "outputs": [
        {
          "output_type": "execute_result",
          "data": {
            "text/plain": [
              "SpearmanrResult(correlation=0.6767029624249535, pvalue=0.0)"
            ]
          },
          "metadata": {},
          "execution_count": 56
        }
      ],
      "source": [
        "stats.spearmanr(nb_pred_ranks, test_ranks)"
      ]
    },
    {
      "cell_type": "markdown",
      "metadata": {
        "id": "v2zHd-krirq-"
      },
      "source": [
        "# SVD\n"
      ]
    },
    {
      "cell_type": "markdown",
      "metadata": {
        "id": "ieUwozJ6BGgn"
      },
      "source": [
        "https://colab.research.google.com/drive/10A46EmY3jAZ8xB7PE9MjePwAgYD6Mej-?authuser=1#scrollTo=-7lHjyW9hOVr \n",
        "\n",
        "OR \n",
        "\n",
        "https://github.com/jiangzl2016/yelp-rating-prediction/blob/master/1_baseline_and_collaborative_filtering.ipynb"
      ]
    },
    {
      "cell_type": "code",
      "execution_count": 57,
      "metadata": {
        "colab": {
          "base_uri": "https://localhost:8080/"
        },
        "id": "5fGn-m65hOVY",
        "outputId": "694d5303-5ca1-4607-baf9-e9d2810737bb"
      },
      "outputs": [
        {
          "output_type": "stream",
          "name": "stdout",
          "text": [
            "                        user_id             business_id  rating  \\\n",
            "0        OyoGAe7OKpv6SyGZT5g77Q  7ATYjTIgM3jUlt4UM3IypQ     5.0   \n",
            "1        OyoGAe7OKpv6SyGZT5g77Q  qjGS_7iaQDpbVhS6W8qkHQ     5.0   \n",
            "2        OyoGAe7OKpv6SyGZT5g77Q  tkFXSTpI-JmDgzhPU8ZsVA     5.0   \n",
            "3        OyoGAe7OKpv6SyGZT5g77Q  CHrAJdhMg4ruIg8zVF-vog     5.0   \n",
            "4        OyoGAe7OKpv6SyGZT5g77Q  FlhLKsuV-QuLBzn1XFLvaA     4.0   \n",
            "...                         ...                     ...     ...   \n",
            "1718189  6_lsrjhSpyWa-0n43cRwrg  R-bs-t16a_9L5N6WTrK_jw     5.0   \n",
            "1718190  6_lsrjhSpyWa-0n43cRwrg  R-bs-t16a_9L5N6WTrK_jw     5.0   \n",
            "1718191  6_lsrjhSpyWa-0n43cRwrg  R-bs-t16a_9L5N6WTrK_jw     5.0   \n",
            "1718192  6_lsrjhSpyWa-0n43cRwrg  R-bs-t16a_9L5N6WTrK_jw     5.0   \n",
            "1718193  6_lsrjhSpyWa-0n43cRwrg  R-bs-t16a_9L5N6WTrK_jw     5.0   \n",
            "\n",
            "                        date  \\\n",
            "0        2012-01-03 15:28:18   \n",
            "1        2015-04-16 16:34:29   \n",
            "2        2017-05-19 22:31:33   \n",
            "3        2017-06-11 00:01:22   \n",
            "4        2019-11-02 10:16:16   \n",
            "...                      ...   \n",
            "1718189  2019-04-22 01:05:06   \n",
            "1718190  2019-02-13 04:20:57   \n",
            "1718191  2019-11-05 05:10:57   \n",
            "1718192  2019-03-23 00:38:27   \n",
            "1718193  2019-03-07 20:24:54   \n",
            "\n",
            "                                                      text  \n",
            "0        I've taken a lot of spin classes over the year...  \n",
            "1        Welcome to the neighborhood, Sweet Life Bakesh...  \n",
            "2        Unique Indoor Comfort was fantastic. Our AC br...  \n",
            "3        We had a wonderful experience at this Avalon f...  \n",
            "4        Went to The Iron Oven for the second time and ...  \n",
            "...                                                    ...  \n",
            "1718189  Took Yummy for her two week check up. She was ...  \n",
            "1718190  We fell in love with a shorkie. We had 5 days ...  \n",
            "1718191  Brought yummy in February and she is doing gre...  \n",
            "1718192  Took Yummy for her two week check up. She was ...  \n",
            "1718193  Took Yummy for her two week check up. She was ...  \n",
            "\n",
            "[1718194 rows x 5 columns]\n",
            "(1718194, 5)\n",
            "(2148040, 5)\n"
          ]
        }
      ],
      "source": [
        "# Sample by users\n",
        "user_id_unique = ratings_.user_id.unique()\n",
        "user_id_sample = pd.DataFrame(user_id_unique, columns=['unique_user_id']).sample(frac= 0.8, replace=False, random_state=1)\n",
        "\n",
        "ratings_sample = ratings_.merge(user_id_sample, left_on='user_id', right_on='unique_user_id') \\\n",
        "                    .drop(['unique_user_id'], axis=1)\n",
        "print(ratings_sample)\n",
        "print(ratings_sample.shape)\n",
        "print(ratings_.shape)"
      ]
    },
    {
      "cell_type": "code",
      "execution_count": 58,
      "metadata": {
        "colab": {
          "base_uri": "https://localhost:8080/"
        },
        "id": "Ge4CfkolhOVZ",
        "outputId": "3b8045f4-0697-46e5-d856-5e148d4ca8ce"
      },
      "outputs": [
        {
          "output_type": "stream",
          "name": "stdout",
          "text": [
            "There are 1463969 rows, 5 columns in training set.\n",
            "There are 127120 rows, 5 columns in training set.\n",
            "There are 127105 rows, 5 columns in holdout set.\n"
          ]
        }
      ],
      "source": [
        "# Create validation/ holdout set\n",
        "ratings_user_date = ratings_sample.loc[:, ['user_id', 'date']]\n",
        "ratings_user_date.date = pd.to_datetime(ratings_user_date.date)\n",
        "index_holdout = ratings_user_date.groupby(['user_id'], sort=False)['date'].transform(max) == ratings_user_date['date']\n",
        "ratings_holdout_ = ratings_sample[index_holdout]\n",
        "ratings_traincv_ = ratings_sample[~index_holdout]\n",
        "\n",
        "ratings_user_date = ratings_traincv_.loc[:, ['user_id', 'date']]\n",
        "index_holdout = ratings_user_date.groupby(['user_id'], sort=False)['date'].transform(max) == ratings_user_date['date']\n",
        "ratings_cv_ = ratings_traincv_[index_holdout]\n",
        "ratings_train_ = ratings_traincv_[~index_holdout]\n",
        "\n",
        "# remove the user that has fake reviews \n",
        "cv_users_del = set(ratings_cv_.user_id) - set(ratings_train_.user_id)\n",
        "holdout_users_del = set(ratings_holdout_.user_id) - set(ratings_train_.user_id)\n",
        "ratings_cv_ = ratings_cv_[~ratings_cv_.user_id.isin(cv_users_del)]\n",
        "ratings_holdout_ = ratings_holdout_[~ratings_holdout_.user_id.isin(holdout_users_del)]\n",
        "\n",
        "print('There are {0} rows, {1} columns in training set.'.format(ratings_train_.shape[0], ratings_train_.shape[1]))\n",
        "print('There are {0} rows, {1} columns in training set.'.format(ratings_cv_.shape[0], ratings_cv_.shape[1]))\n",
        "print('There are {0} rows, {1} columns in holdout set.'.format(ratings_holdout_.shape[0], ratings_holdout_.shape[1]))"
      ]
    },
    {
      "cell_type": "code",
      "execution_count": 59,
      "metadata": {
        "colab": {
          "base_uri": "https://localhost:8080/"
        },
        "id": "Fi4FTBZahOVZ",
        "outputId": "a294af82-0797-4fe8-8d41-9d3bb4632835"
      },
      "outputs": [
        {
          "output_type": "stream",
          "name": "stdout",
          "text": [
            "127102\n"
          ]
        }
      ],
      "source": [
        "# check if we have a enough user sample size (> 50000)\n",
        "number_of_unique_users = len(ratings_train_.user_id.unique())\n",
        "print(number_of_unique_users)"
      ]
    },
    {
      "cell_type": "code",
      "execution_count": 61,
      "metadata": {
        "id": "ftdpfUjmhOVb"
      },
      "outputs": [],
      "source": [
        "def process(df):\n",
        "    df['date']  = pd.to_datetime(df['date'])\n",
        "    df['week_day'] = df['date'].dt.weekday\n",
        "    df['month'] = df['date'].dt.month\n",
        "    df['hour'] = df['date'].dt.hour\n",
        "    df = df.merge(users_, on = 'user_id')\n",
        "    df = df.merge(business_, on = 'business_id')\n",
        "    rename_dict = {'business_longitude': 'longitude', 'business_latitude': 'latitude',\n",
        "                  'business_state':'state','business_city':'city', 'business_address': 'address'}\n",
        "    df = df.rename(columns = rename_dict)\n",
        "    return df\n",
        "\n",
        "ratings_train = process(ratings_train_.copy())\n",
        "ratings_holdout = process(ratings_holdout_.copy())\n",
        "ratings_val = process(ratings_cv_.copy())"
      ]
    },
    {
      "cell_type": "code",
      "execution_count": 62,
      "metadata": {
        "id": "qUPHADfshOVc"
      },
      "outputs": [],
      "source": [
        "ratings_train_final = ratings_train.append(ratings_val)\n",
        "ratings_entire_df = ratings_train.append(ratings_val).append(ratings_holdout)"
      ]
    },
    {
      "cell_type": "code",
      "execution_count": 63,
      "metadata": {
        "colab": {
          "base_uri": "https://localhost:8080/",
          "height": 1000
        },
        "id": "Gz6m4FlihOVc",
        "outputId": "c3fb415f-bd7d-489f-ad86-7a7346112484"
      },
      "outputs": [
        {
          "output_type": "execute_result",
          "data": {
            "text/plain": [
              "                      user_id             business_id  rating  \\\n",
              "0      8g_iMtfSiwikVnbP2etR0A  WYHGfjXEnShYBljWV8xNsA     5.0   \n",
              "1      vAjhmzGIewZfXBbwyPiuzA  WYHGfjXEnShYBljWV8xNsA     5.0   \n",
              "2      9G5n7PigZ9TcFAR7lOxOCg  WYHGfjXEnShYBljWV8xNsA     1.0   \n",
              "3      jCVLlr4DGms1uYbUXNpkaA  WYHGfjXEnShYBljWV8xNsA     5.0   \n",
              "4      1YLucJaA-gCJRRDsXyFApQ  WYHGfjXEnShYBljWV8xNsA     4.0   \n",
              "...                       ...                     ...     ...   \n",
              "52243  AuJPe7eHdT7TIO0AQfhHsA  c-oGZZ81FYvclXAYIs0mqg     1.0   \n",
              "52244  My3F--w7npe_NHLdAND4QA  QFrjcKt3GWeSTnchJWL3Ww     2.0   \n",
              "52245  uMAgIJQuC4EIZ-lUUOMC2g  zCiy_Eq1TaJroIlKOAal0A     5.0   \n",
              "52246  xwKhjm01_5HRzV6DQ2zrgw  qdKCj1XsTCgTql1iuPB5lg     5.0   \n",
              "52247  Vsk3otkENizVbSX83xupNA  gsd6mjQ-m5oi9QsAyerghw     5.0   \n",
              "\n",
              "                     date                                               text  \\\n",
              "0     2021-01-06 15:45:21  It's January 2 and 58 degrees. We were looking...   \n",
              "1     2018-11-07 00:09:27  This place is a welcome addition to Tucson. Gr...   \n",
              "2     2018-08-29 02:07:55  Very poor sausage to bun ratio. Plus you have ...   \n",
              "3     2021-10-09 03:26:55  Visited for lunch on a weekday afternoon.\\nSam...   \n",
              "4     2022-01-16 02:23:01  Great for food and drink! Food is fresh and be...   \n",
              "...                   ...                                                ...   \n",
              "52243 2014-07-09 04:17:24  This place is only still in business because o...   \n",
              "52244 2021-03-27 20:34:40  Last 3 times we were in the area we stop by fo...   \n",
              "52245 2019-09-01 22:28:20  After having a terrible experience at the Plai...   \n",
              "52246 2014-04-28 02:30:09  im a foodie and i found myself  at this locati...   \n",
              "52247 2021-08-28 18:09:49  Local Deli I can't believe we just discovered ...   \n",
              "\n",
              "       week_day  month  hour user_name  user_review_count  ...  \\\n",
              "0             2      1    15     Debra               1332  ...   \n",
              "1             2     11     0      Bill                 48  ...   \n",
              "2             2      8     2      Gary                 21  ...   \n",
              "3             5     10     3      Rick                246  ...   \n",
              "4             6      1     2       Cam                205  ...   \n",
              "...         ...    ...   ...       ...                ...  ...   \n",
              "52243         2      7     4      Nick                 29  ...   \n",
              "52244         5      3    20      John                 41  ...   \n",
              "52245         6      9    22     Larry                 34  ...   \n",
              "52246         0      4     2   Siniaya                 96  ...   \n",
              "52247         5      8    18      Ryan                 30  ...   \n",
              "\n",
              "               business_name               address          city  state  \\\n",
              "0      Ten55 Brewing Company     110 E Congress St        Tucson     AZ   \n",
              "1      Ten55 Brewing Company     110 E Congress St        Tucson     AZ   \n",
              "2      Ten55 Brewing Company     110 E Congress St        Tucson     AZ   \n",
              "3      Ten55 Brewing Company     110 E Congress St        Tucson     AZ   \n",
              "4      Ten55 Brewing Company     110 E Congress St        Tucson     AZ   \n",
              "...                      ...                   ...           ...    ...   \n",
              "52243              Dirtbag's  1800 E Speedway Blvd        Tucson     AZ   \n",
              "52244        Taste of Philly            7810 US 19   Port Richey     FL   \n",
              "52245                Chili's        6020 W 86th St  Indianapolis     IN   \n",
              "52246       Marsh Road Diner          407 Marsh Rd    Wilmington     DE   \n",
              "52247          Waller's Deli        1572 Route 206    Tabernacle     NJ   \n",
              "\n",
              "        latitude   longitude stars  review_counts is_open  \\\n",
              "0      32.221888 -110.969320   4.0            121       1   \n",
              "1      32.221888 -110.969320   4.0            121       1   \n",
              "2      32.221888 -110.969320   4.0            121       1   \n",
              "3      32.221888 -110.969320   4.0            121       1   \n",
              "4      32.221888 -110.969320   4.0            121       1   \n",
              "...          ...         ...   ...            ...     ...   \n",
              "52243  32.235782 -110.945105   2.5             67       1   \n",
              "52244  28.271076  -82.723903   3.5             33       1   \n",
              "52245  39.911340  -86.266757   3.0             64       1   \n",
              "52246  39.767645  -75.509123   3.5             92       1   \n",
              "52247  39.860050  -74.732689   4.5             42       1   \n",
              "\n",
              "                                              categories  \n",
              "0      Breweries, Restaurants, Salad, Breakfast & Bru...  \n",
              "1      Breweries, Restaurants, Salad, Breakfast & Bru...  \n",
              "2      Breweries, Restaurants, Salad, Breakfast & Bru...  \n",
              "3      Breweries, Restaurants, Salad, Breakfast & Bru...  \n",
              "4      Breweries, Restaurants, Salad, Breakfast & Bru...  \n",
              "...                                                  ...  \n",
              "52243  Restaurants, Bars, Dive Bars, American (Tradit...  \n",
              "52244  Sandwiches, Restaurants, Cheesesteaks, Steakho...  \n",
              "52245  Restaurants, Tex-Mex, American (Traditional), ...  \n",
              "52246     Restaurants, Diners, Cafes, Breakfast & Brunch  \n",
              "52247         American (Traditional), Delis, Restaurants  \n",
              "\n",
              "[52248 rows x 28 columns]"
            ],
            "text/html": [
              "\n",
              "  <div id=\"df-191cd7f7-f75d-4093-9f38-64935508e75f\">\n",
              "    <div class=\"colab-df-container\">\n",
              "      <div>\n",
              "<style scoped>\n",
              "    .dataframe tbody tr th:only-of-type {\n",
              "        vertical-align: middle;\n",
              "    }\n",
              "\n",
              "    .dataframe tbody tr th {\n",
              "        vertical-align: top;\n",
              "    }\n",
              "\n",
              "    .dataframe thead th {\n",
              "        text-align: right;\n",
              "    }\n",
              "</style>\n",
              "<table border=\"1\" class=\"dataframe\">\n",
              "  <thead>\n",
              "    <tr style=\"text-align: right;\">\n",
              "      <th></th>\n",
              "      <th>user_id</th>\n",
              "      <th>business_id</th>\n",
              "      <th>rating</th>\n",
              "      <th>date</th>\n",
              "      <th>text</th>\n",
              "      <th>week_day</th>\n",
              "      <th>month</th>\n",
              "      <th>hour</th>\n",
              "      <th>user_name</th>\n",
              "      <th>user_review_count</th>\n",
              "      <th>...</th>\n",
              "      <th>business_name</th>\n",
              "      <th>address</th>\n",
              "      <th>city</th>\n",
              "      <th>state</th>\n",
              "      <th>latitude</th>\n",
              "      <th>longitude</th>\n",
              "      <th>stars</th>\n",
              "      <th>review_counts</th>\n",
              "      <th>is_open</th>\n",
              "      <th>categories</th>\n",
              "    </tr>\n",
              "  </thead>\n",
              "  <tbody>\n",
              "    <tr>\n",
              "      <th>0</th>\n",
              "      <td>8g_iMtfSiwikVnbP2etR0A</td>\n",
              "      <td>WYHGfjXEnShYBljWV8xNsA</td>\n",
              "      <td>5.0</td>\n",
              "      <td>2021-01-06 15:45:21</td>\n",
              "      <td>It's January 2 and 58 degrees. We were looking...</td>\n",
              "      <td>2</td>\n",
              "      <td>1</td>\n",
              "      <td>15</td>\n",
              "      <td>Debra</td>\n",
              "      <td>1332</td>\n",
              "      <td>...</td>\n",
              "      <td>Ten55 Brewing Company</td>\n",
              "      <td>110 E Congress St</td>\n",
              "      <td>Tucson</td>\n",
              "      <td>AZ</td>\n",
              "      <td>32.221888</td>\n",
              "      <td>-110.969320</td>\n",
              "      <td>4.0</td>\n",
              "      <td>121</td>\n",
              "      <td>1</td>\n",
              "      <td>Breweries, Restaurants, Salad, Breakfast &amp; Bru...</td>\n",
              "    </tr>\n",
              "    <tr>\n",
              "      <th>1</th>\n",
              "      <td>vAjhmzGIewZfXBbwyPiuzA</td>\n",
              "      <td>WYHGfjXEnShYBljWV8xNsA</td>\n",
              "      <td>5.0</td>\n",
              "      <td>2018-11-07 00:09:27</td>\n",
              "      <td>This place is a welcome addition to Tucson. Gr...</td>\n",
              "      <td>2</td>\n",
              "      <td>11</td>\n",
              "      <td>0</td>\n",
              "      <td>Bill</td>\n",
              "      <td>48</td>\n",
              "      <td>...</td>\n",
              "      <td>Ten55 Brewing Company</td>\n",
              "      <td>110 E Congress St</td>\n",
              "      <td>Tucson</td>\n",
              "      <td>AZ</td>\n",
              "      <td>32.221888</td>\n",
              "      <td>-110.969320</td>\n",
              "      <td>4.0</td>\n",
              "      <td>121</td>\n",
              "      <td>1</td>\n",
              "      <td>Breweries, Restaurants, Salad, Breakfast &amp; Bru...</td>\n",
              "    </tr>\n",
              "    <tr>\n",
              "      <th>2</th>\n",
              "      <td>9G5n7PigZ9TcFAR7lOxOCg</td>\n",
              "      <td>WYHGfjXEnShYBljWV8xNsA</td>\n",
              "      <td>1.0</td>\n",
              "      <td>2018-08-29 02:07:55</td>\n",
              "      <td>Very poor sausage to bun ratio. Plus you have ...</td>\n",
              "      <td>2</td>\n",
              "      <td>8</td>\n",
              "      <td>2</td>\n",
              "      <td>Gary</td>\n",
              "      <td>21</td>\n",
              "      <td>...</td>\n",
              "      <td>Ten55 Brewing Company</td>\n",
              "      <td>110 E Congress St</td>\n",
              "      <td>Tucson</td>\n",
              "      <td>AZ</td>\n",
              "      <td>32.221888</td>\n",
              "      <td>-110.969320</td>\n",
              "      <td>4.0</td>\n",
              "      <td>121</td>\n",
              "      <td>1</td>\n",
              "      <td>Breweries, Restaurants, Salad, Breakfast &amp; Bru...</td>\n",
              "    </tr>\n",
              "    <tr>\n",
              "      <th>3</th>\n",
              "      <td>jCVLlr4DGms1uYbUXNpkaA</td>\n",
              "      <td>WYHGfjXEnShYBljWV8xNsA</td>\n",
              "      <td>5.0</td>\n",
              "      <td>2021-10-09 03:26:55</td>\n",
              "      <td>Visited for lunch on a weekday afternoon.\\nSam...</td>\n",
              "      <td>5</td>\n",
              "      <td>10</td>\n",
              "      <td>3</td>\n",
              "      <td>Rick</td>\n",
              "      <td>246</td>\n",
              "      <td>...</td>\n",
              "      <td>Ten55 Brewing Company</td>\n",
              "      <td>110 E Congress St</td>\n",
              "      <td>Tucson</td>\n",
              "      <td>AZ</td>\n",
              "      <td>32.221888</td>\n",
              "      <td>-110.969320</td>\n",
              "      <td>4.0</td>\n",
              "      <td>121</td>\n",
              "      <td>1</td>\n",
              "      <td>Breweries, Restaurants, Salad, Breakfast &amp; Bru...</td>\n",
              "    </tr>\n",
              "    <tr>\n",
              "      <th>4</th>\n",
              "      <td>1YLucJaA-gCJRRDsXyFApQ</td>\n",
              "      <td>WYHGfjXEnShYBljWV8xNsA</td>\n",
              "      <td>4.0</td>\n",
              "      <td>2022-01-16 02:23:01</td>\n",
              "      <td>Great for food and drink! Food is fresh and be...</td>\n",
              "      <td>6</td>\n",
              "      <td>1</td>\n",
              "      <td>2</td>\n",
              "      <td>Cam</td>\n",
              "      <td>205</td>\n",
              "      <td>...</td>\n",
              "      <td>Ten55 Brewing Company</td>\n",
              "      <td>110 E Congress St</td>\n",
              "      <td>Tucson</td>\n",
              "      <td>AZ</td>\n",
              "      <td>32.221888</td>\n",
              "      <td>-110.969320</td>\n",
              "      <td>4.0</td>\n",
              "      <td>121</td>\n",
              "      <td>1</td>\n",
              "      <td>Breweries, Restaurants, Salad, Breakfast &amp; Bru...</td>\n",
              "    </tr>\n",
              "    <tr>\n",
              "      <th>...</th>\n",
              "      <td>...</td>\n",
              "      <td>...</td>\n",
              "      <td>...</td>\n",
              "      <td>...</td>\n",
              "      <td>...</td>\n",
              "      <td>...</td>\n",
              "      <td>...</td>\n",
              "      <td>...</td>\n",
              "      <td>...</td>\n",
              "      <td>...</td>\n",
              "      <td>...</td>\n",
              "      <td>...</td>\n",
              "      <td>...</td>\n",
              "      <td>...</td>\n",
              "      <td>...</td>\n",
              "      <td>...</td>\n",
              "      <td>...</td>\n",
              "      <td>...</td>\n",
              "      <td>...</td>\n",
              "      <td>...</td>\n",
              "      <td>...</td>\n",
              "    </tr>\n",
              "    <tr>\n",
              "      <th>52243</th>\n",
              "      <td>AuJPe7eHdT7TIO0AQfhHsA</td>\n",
              "      <td>c-oGZZ81FYvclXAYIs0mqg</td>\n",
              "      <td>1.0</td>\n",
              "      <td>2014-07-09 04:17:24</td>\n",
              "      <td>This place is only still in business because o...</td>\n",
              "      <td>2</td>\n",
              "      <td>7</td>\n",
              "      <td>4</td>\n",
              "      <td>Nick</td>\n",
              "      <td>29</td>\n",
              "      <td>...</td>\n",
              "      <td>Dirtbag's</td>\n",
              "      <td>1800 E Speedway Blvd</td>\n",
              "      <td>Tucson</td>\n",
              "      <td>AZ</td>\n",
              "      <td>32.235782</td>\n",
              "      <td>-110.945105</td>\n",
              "      <td>2.5</td>\n",
              "      <td>67</td>\n",
              "      <td>1</td>\n",
              "      <td>Restaurants, Bars, Dive Bars, American (Tradit...</td>\n",
              "    </tr>\n",
              "    <tr>\n",
              "      <th>52244</th>\n",
              "      <td>My3F--w7npe_NHLdAND4QA</td>\n",
              "      <td>QFrjcKt3GWeSTnchJWL3Ww</td>\n",
              "      <td>2.0</td>\n",
              "      <td>2021-03-27 20:34:40</td>\n",
              "      <td>Last 3 times we were in the area we stop by fo...</td>\n",
              "      <td>5</td>\n",
              "      <td>3</td>\n",
              "      <td>20</td>\n",
              "      <td>John</td>\n",
              "      <td>41</td>\n",
              "      <td>...</td>\n",
              "      <td>Taste of Philly</td>\n",
              "      <td>7810 US 19</td>\n",
              "      <td>Port Richey</td>\n",
              "      <td>FL</td>\n",
              "      <td>28.271076</td>\n",
              "      <td>-82.723903</td>\n",
              "      <td>3.5</td>\n",
              "      <td>33</td>\n",
              "      <td>1</td>\n",
              "      <td>Sandwiches, Restaurants, Cheesesteaks, Steakho...</td>\n",
              "    </tr>\n",
              "    <tr>\n",
              "      <th>52245</th>\n",
              "      <td>uMAgIJQuC4EIZ-lUUOMC2g</td>\n",
              "      <td>zCiy_Eq1TaJroIlKOAal0A</td>\n",
              "      <td>5.0</td>\n",
              "      <td>2019-09-01 22:28:20</td>\n",
              "      <td>After having a terrible experience at the Plai...</td>\n",
              "      <td>6</td>\n",
              "      <td>9</td>\n",
              "      <td>22</td>\n",
              "      <td>Larry</td>\n",
              "      <td>34</td>\n",
              "      <td>...</td>\n",
              "      <td>Chili's</td>\n",
              "      <td>6020 W 86th St</td>\n",
              "      <td>Indianapolis</td>\n",
              "      <td>IN</td>\n",
              "      <td>39.911340</td>\n",
              "      <td>-86.266757</td>\n",
              "      <td>3.0</td>\n",
              "      <td>64</td>\n",
              "      <td>1</td>\n",
              "      <td>Restaurants, Tex-Mex, American (Traditional), ...</td>\n",
              "    </tr>\n",
              "    <tr>\n",
              "      <th>52246</th>\n",
              "      <td>xwKhjm01_5HRzV6DQ2zrgw</td>\n",
              "      <td>qdKCj1XsTCgTql1iuPB5lg</td>\n",
              "      <td>5.0</td>\n",
              "      <td>2014-04-28 02:30:09</td>\n",
              "      <td>im a foodie and i found myself  at this locati...</td>\n",
              "      <td>0</td>\n",
              "      <td>4</td>\n",
              "      <td>2</td>\n",
              "      <td>Siniaya</td>\n",
              "      <td>96</td>\n",
              "      <td>...</td>\n",
              "      <td>Marsh Road Diner</td>\n",
              "      <td>407 Marsh Rd</td>\n",
              "      <td>Wilmington</td>\n",
              "      <td>DE</td>\n",
              "      <td>39.767645</td>\n",
              "      <td>-75.509123</td>\n",
              "      <td>3.5</td>\n",
              "      <td>92</td>\n",
              "      <td>1</td>\n",
              "      <td>Restaurants, Diners, Cafes, Breakfast &amp; Brunch</td>\n",
              "    </tr>\n",
              "    <tr>\n",
              "      <th>52247</th>\n",
              "      <td>Vsk3otkENizVbSX83xupNA</td>\n",
              "      <td>gsd6mjQ-m5oi9QsAyerghw</td>\n",
              "      <td>5.0</td>\n",
              "      <td>2021-08-28 18:09:49</td>\n",
              "      <td>Local Deli I can't believe we just discovered ...</td>\n",
              "      <td>5</td>\n",
              "      <td>8</td>\n",
              "      <td>18</td>\n",
              "      <td>Ryan</td>\n",
              "      <td>30</td>\n",
              "      <td>...</td>\n",
              "      <td>Waller's Deli</td>\n",
              "      <td>1572 Route 206</td>\n",
              "      <td>Tabernacle</td>\n",
              "      <td>NJ</td>\n",
              "      <td>39.860050</td>\n",
              "      <td>-74.732689</td>\n",
              "      <td>4.5</td>\n",
              "      <td>42</td>\n",
              "      <td>1</td>\n",
              "      <td>American (Traditional), Delis, Restaurants</td>\n",
              "    </tr>\n",
              "  </tbody>\n",
              "</table>\n",
              "<p>52248 rows × 28 columns</p>\n",
              "</div>\n",
              "      <button class=\"colab-df-convert\" onclick=\"convertToInteractive('df-191cd7f7-f75d-4093-9f38-64935508e75f')\"\n",
              "              title=\"Convert this dataframe to an interactive table.\"\n",
              "              style=\"display:none;\">\n",
              "        \n",
              "  <svg xmlns=\"http://www.w3.org/2000/svg\" height=\"24px\"viewBox=\"0 0 24 24\"\n",
              "       width=\"24px\">\n",
              "    <path d=\"M0 0h24v24H0V0z\" fill=\"none\"/>\n",
              "    <path d=\"M18.56 5.44l.94 2.06.94-2.06 2.06-.94-2.06-.94-.94-2.06-.94 2.06-2.06.94zm-11 1L8.5 8.5l.94-2.06 2.06-.94-2.06-.94L8.5 2.5l-.94 2.06-2.06.94zm10 10l.94 2.06.94-2.06 2.06-.94-2.06-.94-.94-2.06-.94 2.06-2.06.94z\"/><path d=\"M17.41 7.96l-1.37-1.37c-.4-.4-.92-.59-1.43-.59-.52 0-1.04.2-1.43.59L10.3 9.45l-7.72 7.72c-.78.78-.78 2.05 0 2.83L4 21.41c.39.39.9.59 1.41.59.51 0 1.02-.2 1.41-.59l7.78-7.78 2.81-2.81c.8-.78.8-2.07 0-2.86zM5.41 20L4 18.59l7.72-7.72 1.47 1.35L5.41 20z\"/>\n",
              "  </svg>\n",
              "      </button>\n",
              "      \n",
              "  <style>\n",
              "    .colab-df-container {\n",
              "      display:flex;\n",
              "      flex-wrap:wrap;\n",
              "      gap: 12px;\n",
              "    }\n",
              "\n",
              "    .colab-df-convert {\n",
              "      background-color: #E8F0FE;\n",
              "      border: none;\n",
              "      border-radius: 50%;\n",
              "      cursor: pointer;\n",
              "      display: none;\n",
              "      fill: #1967D2;\n",
              "      height: 32px;\n",
              "      padding: 0 0 0 0;\n",
              "      width: 32px;\n",
              "    }\n",
              "\n",
              "    .colab-df-convert:hover {\n",
              "      background-color: #E2EBFA;\n",
              "      box-shadow: 0px 1px 2px rgba(60, 64, 67, 0.3), 0px 1px 3px 1px rgba(60, 64, 67, 0.15);\n",
              "      fill: #174EA6;\n",
              "    }\n",
              "\n",
              "    [theme=dark] .colab-df-convert {\n",
              "      background-color: #3B4455;\n",
              "      fill: #D2E3FC;\n",
              "    }\n",
              "\n",
              "    [theme=dark] .colab-df-convert:hover {\n",
              "      background-color: #434B5C;\n",
              "      box-shadow: 0px 1px 3px 1px rgba(0, 0, 0, 0.15);\n",
              "      filter: drop-shadow(0px 1px 2px rgba(0, 0, 0, 0.3));\n",
              "      fill: #FFFFFF;\n",
              "    }\n",
              "  </style>\n",
              "\n",
              "      <script>\n",
              "        const buttonEl =\n",
              "          document.querySelector('#df-191cd7f7-f75d-4093-9f38-64935508e75f button.colab-df-convert');\n",
              "        buttonEl.style.display =\n",
              "          google.colab.kernel.accessAllowed ? 'block' : 'none';\n",
              "\n",
              "        async function convertToInteractive(key) {\n",
              "          const element = document.querySelector('#df-191cd7f7-f75d-4093-9f38-64935508e75f');\n",
              "          const dataTable =\n",
              "            await google.colab.kernel.invokeFunction('convertToInteractive',\n",
              "                                                     [key], {});\n",
              "          if (!dataTable) return;\n",
              "\n",
              "          const docLinkHtml = 'Like what you see? Visit the ' +\n",
              "            '<a target=\"_blank\" href=https://colab.research.google.com/notebooks/data_table.ipynb>data table notebook</a>'\n",
              "            + ' to learn more about interactive tables.';\n",
              "          element.innerHTML = '';\n",
              "          dataTable['output_type'] = 'display_data';\n",
              "          await google.colab.output.renderOutput(dataTable, element);\n",
              "          const docLink = document.createElement('div');\n",
              "          docLink.innerHTML = docLinkHtml;\n",
              "          element.appendChild(docLink);\n",
              "        }\n",
              "      </script>\n",
              "    </div>\n",
              "  </div>\n",
              "  "
            ]
          },
          "metadata": {},
          "execution_count": 63
        }
      ],
      "source": [
        "ratings_train\n",
        "ratings_holdout"
      ]
    },
    {
      "cell_type": "code",
      "execution_count": 64,
      "metadata": {
        "id": "EBWw3qKShOVc"
      },
      "outputs": [],
      "source": [
        "unique_city_businesses = ratings_entire_df[['city','business_id']].drop_duplicates()\n",
        "unique_cities = unique_city_businesses.groupby('city').count()['business_id']\n",
        "unique_cities = unique_cities[unique_cities > 100]\n",
        "out = pd.DataFrame()\n",
        "for city in unique_cities.index:\n",
        "    tmp = ratings_holdout[(ratings_holdout['city'] ==city) &\n",
        "                              (ratings_holdout['rating'] >ratings_holdout['average_stars'])]\n",
        "    if len(tmp['user_id'].unique())>4:\n",
        "        \n",
        "        ###this weird sampling technique is to ensure we dont' sample the same user twice in a same city\n",
        "        five_users = np.random.choice(tmp['user_id'].unique(),5, replace = False)\n",
        "        row = tmp[tmp['user_id'].isin(five_users)].groupby('user_id', group_keys=False).apply(lambda df: df.sample(1))\n",
        "        out = out.append(row)"
      ]
    },
    {
      "cell_type": "code",
      "execution_count": 65,
      "metadata": {
        "id": "UpL4hDKShOVd"
      },
      "outputs": [],
      "source": [
        "predict_df = out[['user_id','city','state']]\n",
        "predict_df = predict_df.merge(unique_city_businesses, on = 'city')\n",
        "predict_df.to_csv('metric_sample.csv')"
      ]
    },
    {
      "cell_type": "code",
      "execution_count": 66,
      "metadata": {
        "id": "fCKhBm7vhOVd"
      },
      "outputs": [],
      "source": [
        "# random initialization, needs to be substituted by actual predictions later.\n",
        "predict_df['predictions'] = 2.5"
      ]
    },
    {
      "cell_type": "code",
      "execution_count": 67,
      "metadata": {
        "colab": {
          "base_uri": "https://localhost:8080/"
        },
        "id": "-7lHjyW9hOVr",
        "outputId": "6ae3f8bb-f608-4aee-bcb2-82d9815ade73"
      },
      "outputs": [
        {
          "output_type": "stream",
          "name": "stdout",
          "text": [
            "                       user_id             business_id  rating  \\\n",
            "0       8g_iMtfSiwikVnbP2etR0A  YjUWPpI6HXG530lwP-fb2A     3.0   \n",
            "1       VFp9AYShu_C9T4QsHpM3yA  YjUWPpI6HXG530lwP-fb2A     3.0   \n",
            "2       ig0NAzZ9J_6cF0gChtvJuA  YjUWPpI6HXG530lwP-fb2A     5.0   \n",
            "3       -rGU3wo4fgEnGRboYdMTjw  YjUWPpI6HXG530lwP-fb2A     3.0   \n",
            "4       NDom_1pUZoxzErk3dOET0w  YjUWPpI6HXG530lwP-fb2A     1.0   \n",
            "...                        ...                     ...     ...   \n",
            "874087  ECPPKjNtbmD44aRWXCtDXw  6mnMWKb562xajtmnQ8BoOQ     5.0   \n",
            "874088  ECPPKjNtbmD44aRWXCtDXw  6mnMWKb562xajtmnQ8BoOQ     5.0   \n",
            "874089  PVvxH6RF34ky9gvBrL6Zgg  7ptGQTkwnECXBmUmTF-Z9w     4.0   \n",
            "874090  oRjwnD7JajYcwrnapMa9Xw  gXzd2Ao9NNLqCVUOcevdYQ     5.0   \n",
            "874091  pyo5v5vCwJ7mMswThcRY7Q  h7wpU50JpFK2nhBwgmUXYw     4.0   \n",
            "\n",
            "                      date                                               text  \\\n",
            "0      2014-02-05 20:30:30  Family diner. Had the buffet. Eclectic assortm...   \n",
            "1      2011-01-29 00:07:15  Say you want to get a bowl of ice cream and a ...   \n",
            "2      2018-05-16 07:55:33  I came here for dinner last night and loved th...   \n",
            "3      2015-06-22 16:08:27  Located on the west side of Starr Pass Blvd, K...   \n",
            "4      2018-02-24 00:11:01  Just went to eat the buffet. 43 dollars later ...   \n",
            "...                    ...                                                ...   \n",
            "874087 2016-07-10 05:48:03  So my husband and I took our first cooking cla...   \n",
            "874088 2016-04-17 08:10:48  So my husband and I took our first cooking cla...   \n",
            "874089 2021-04-05 12:22:37  It took quite awhile to get seated.  The hoste...   \n",
            "874090 2021-06-12 20:40:16  Had an excellent lunch at Chanta. Service was ...   \n",
            "874091 2020-05-31 16:23:54  At first visit, I really like this cart. The s...   \n",
            "\n",
            "        week_day  month  hour  user_name  user_review_count  ...  \\\n",
            "0              2      2    20      Debra               1332  ...   \n",
            "1              5      1     0        Jen                498  ...   \n",
            "2              2      5     7      Mandy                395  ...   \n",
            "3              0      6    16       Adam                468  ...   \n",
            "4              5      2     0       Star                 83  ...   \n",
            "...          ...    ...   ...        ...                ...  ...   \n",
            "874087         6      7     5     Laurie                 40  ...   \n",
            "874088         6      4     8     Laurie                 40  ...   \n",
            "874089         0      4    12    Richard                 85  ...   \n",
            "874090         5      6    20      Julie                 22  ...   \n",
            "874091         6      5    16  Katherine                 30  ...   \n",
            "\n",
            "                  business_name                 address         city  state  \\\n",
            "0             Kettle Restaurant   748 W Starr Pass Blvd       Tucson     AZ   \n",
            "1             Kettle Restaurant   748 W Starr Pass Blvd       Tucson     AZ   \n",
            "2             Kettle Restaurant   748 W Starr Pass Blvd       Tucson     AZ   \n",
            "3             Kettle Restaurant   748 W Starr Pass Blvd       Tucson     AZ   \n",
            "4             Kettle Restaurant   748 W Starr Pass Blvd       Tucson     AZ   \n",
            "...                         ...                     ...          ...    ...   \n",
            "874087            Heat Culinary    4647 Carpinteria Ave  Carpinteria     CA   \n",
            "874088            Heat Culinary    4647 Carpinteria Ave  Carpinteria     CA   \n",
            "874089            Mr & Mrs Crab  15412 N Dale Mabry Hwy        Tampa     FL   \n",
            "874090  Chanta European Cuisine     113 S Hyde Park Ave        Tampa     FL   \n",
            "874091  Prest Coffee Drive Thru          2501 E 22nd St       Tucson     AZ   \n",
            "\n",
            "         latitude   longitude stars  review_counts is_open  \\\n",
            "0       32.207233 -110.980864   3.5             47       1   \n",
            "1       32.207233 -110.980864   3.5             47       1   \n",
            "2       32.207233 -110.980864   3.5             47       1   \n",
            "3       32.207233 -110.980864   3.5             47       1   \n",
            "4       32.207233 -110.980864   3.5             47       1   \n",
            "...           ...         ...   ...            ...     ...   \n",
            "874087  34.401380 -119.523776   5.0             33       1   \n",
            "874088  34.401380 -119.523776   5.0             33       1   \n",
            "874089  28.090674  -82.503323   4.0             73       1   \n",
            "874090  27.945046  -82.464053   4.5             87       1   \n",
            "874091  32.207125 -110.935000   5.0             39       0   \n",
            "\n",
            "                                               categories  \n",
            "0                         Restaurants, Breakfast & Brunch  \n",
            "1                         Restaurants, Breakfast & Brunch  \n",
            "2                         Restaurants, Breakfast & Brunch  \n",
            "3                         Restaurants, Breakfast & Brunch  \n",
            "4                         Restaurants, Breakfast & Brunch  \n",
            "...                                                   ...  \n",
            "874087  Cooking Classes, Caterers, Shopping, Event Pla...  \n",
            "874088  Cooking Classes, Caterers, Shopping, Event Pla...  \n",
            "874089  Cajun/Creole, Restaurants, Seafood, Nightlife,...  \n",
            "874090  Hungarian, Restaurants, Pizza, German, Modern ...  \n",
            "874091  Restaurants, Cafes, Juice Bars & Smoothies, Fo...  \n",
            "\n",
            "[874092 rows x 28 columns]\n"
          ]
        }
      ],
      "source": [
        "# This will follow the same process as the above model so can be skipped\n",
        "def process(df):\n",
        "    df['date']  = pd.to_datetime(df['date'])\n",
        "    df['week_day'] = df['date'].dt.weekday\n",
        "    df['month'] = df['date'].dt.month\n",
        "    df['hour'] = df['date'].dt.hour\n",
        "    df = df.merge(users_, on = 'user_id')\n",
        "    df = df.merge(business_, on = 'business_id')\n",
        "    rename_dict = {'business_longitude': 'longitude', 'business_latitude': 'latitude',\n",
        "              'business_state':'state','business_city':'city', 'business_address': 'address'}\n",
        "    df = df.rename(columns = rename_dict)\n",
        "    return df\n",
        "ratings_train = process(ratings_train_.copy())\n",
        "ratings_test = process(ratings_holdout_.copy())\n",
        "ratings_val = process(ratings_cv_.copy())\n",
        "print(ratings_train)"
      ]
    },
    {
      "cell_type": "code",
      "execution_count": 68,
      "metadata": {
        "colab": {
          "base_uri": "https://localhost:8080/"
        },
        "id": "LA-DL2nDhOVr",
        "outputId": "1b0fe7ee-9e57-479b-f498-5dd0f4e3aff4"
      },
      "outputs": [
        {
          "output_type": "stream",
          "name": "stdout",
          "text": [
            "                      user_id             business_id  rating  \\\n",
            "0      8g_iMtfSiwikVnbP2etR0A  WYHGfjXEnShYBljWV8xNsA     5.0   \n",
            "1      vAjhmzGIewZfXBbwyPiuzA  WYHGfjXEnShYBljWV8xNsA     5.0   \n",
            "2      9G5n7PigZ9TcFAR7lOxOCg  WYHGfjXEnShYBljWV8xNsA     1.0   \n",
            "3      jCVLlr4DGms1uYbUXNpkaA  WYHGfjXEnShYBljWV8xNsA     5.0   \n",
            "4      1YLucJaA-gCJRRDsXyFApQ  WYHGfjXEnShYBljWV8xNsA     4.0   \n",
            "...                       ...                     ...     ...   \n",
            "52243  AuJPe7eHdT7TIO0AQfhHsA  c-oGZZ81FYvclXAYIs0mqg     1.0   \n",
            "52244  My3F--w7npe_NHLdAND4QA  QFrjcKt3GWeSTnchJWL3Ww     2.0   \n",
            "52245  uMAgIJQuC4EIZ-lUUOMC2g  zCiy_Eq1TaJroIlKOAal0A     5.0   \n",
            "52246  xwKhjm01_5HRzV6DQ2zrgw  qdKCj1XsTCgTql1iuPB5lg     5.0   \n",
            "52247  Vsk3otkENizVbSX83xupNA  gsd6mjQ-m5oi9QsAyerghw     5.0   \n",
            "\n",
            "                     date                                               text  \\\n",
            "0     2021-01-06 15:45:21  It's January 2 and 58 degrees. We were looking...   \n",
            "1     2018-11-07 00:09:27  This place is a welcome addition to Tucson. Gr...   \n",
            "2     2018-08-29 02:07:55  Very poor sausage to bun ratio. Plus you have ...   \n",
            "3     2021-10-09 03:26:55  Visited for lunch on a weekday afternoon.\\nSam...   \n",
            "4     2022-01-16 02:23:01  Great for food and drink! Food is fresh and be...   \n",
            "...                   ...                                                ...   \n",
            "52243 2014-07-09 04:17:24  This place is only still in business because o...   \n",
            "52244 2021-03-27 20:34:40  Last 3 times we were in the area we stop by fo...   \n",
            "52245 2019-09-01 22:28:20  After having a terrible experience at the Plai...   \n",
            "52246 2014-04-28 02:30:09  im a foodie and i found myself  at this locati...   \n",
            "52247 2021-08-28 18:09:49  Local Deli I can't believe we just discovered ...   \n",
            "\n",
            "       week_day  month  hour user_name  user_review_count  ...  \\\n",
            "0             2      1    15     Debra               1332  ...   \n",
            "1             2     11     0      Bill                 48  ...   \n",
            "2             2      8     2      Gary                 21  ...   \n",
            "3             5     10     3      Rick                246  ...   \n",
            "4             6      1     2       Cam                205  ...   \n",
            "...         ...    ...   ...       ...                ...  ...   \n",
            "52243         2      7     4      Nick                 29  ...   \n",
            "52244         5      3    20      John                 41  ...   \n",
            "52245         6      9    22     Larry                 34  ...   \n",
            "52246         0      4     2   Siniaya                 96  ...   \n",
            "52247         5      8    18      Ryan                 30  ...   \n",
            "\n",
            "               business_name               address          city  state  \\\n",
            "0      Ten55 Brewing Company     110 E Congress St        Tucson     AZ   \n",
            "1      Ten55 Brewing Company     110 E Congress St        Tucson     AZ   \n",
            "2      Ten55 Brewing Company     110 E Congress St        Tucson     AZ   \n",
            "3      Ten55 Brewing Company     110 E Congress St        Tucson     AZ   \n",
            "4      Ten55 Brewing Company     110 E Congress St        Tucson     AZ   \n",
            "...                      ...                   ...           ...    ...   \n",
            "52243              Dirtbag's  1800 E Speedway Blvd        Tucson     AZ   \n",
            "52244        Taste of Philly            7810 US 19   Port Richey     FL   \n",
            "52245                Chili's        6020 W 86th St  Indianapolis     IN   \n",
            "52246       Marsh Road Diner          407 Marsh Rd    Wilmington     DE   \n",
            "52247          Waller's Deli        1572 Route 206    Tabernacle     NJ   \n",
            "\n",
            "        latitude   longitude stars  review_counts is_open  \\\n",
            "0      32.221888 -110.969320   4.0            121       1   \n",
            "1      32.221888 -110.969320   4.0            121       1   \n",
            "2      32.221888 -110.969320   4.0            121       1   \n",
            "3      32.221888 -110.969320   4.0            121       1   \n",
            "4      32.221888 -110.969320   4.0            121       1   \n",
            "...          ...         ...   ...            ...     ...   \n",
            "52243  32.235782 -110.945105   2.5             67       1   \n",
            "52244  28.271076  -82.723903   3.5             33       1   \n",
            "52245  39.911340  -86.266757   3.0             64       1   \n",
            "52246  39.767645  -75.509123   3.5             92       1   \n",
            "52247  39.860050  -74.732689   4.5             42       1   \n",
            "\n",
            "                                              categories  \n",
            "0      Breweries, Restaurants, Salad, Breakfast & Bru...  \n",
            "1      Breweries, Restaurants, Salad, Breakfast & Bru...  \n",
            "2      Breweries, Restaurants, Salad, Breakfast & Bru...  \n",
            "3      Breweries, Restaurants, Salad, Breakfast & Bru...  \n",
            "4      Breweries, Restaurants, Salad, Breakfast & Bru...  \n",
            "...                                                  ...  \n",
            "52243  Restaurants, Bars, Dive Bars, American (Tradit...  \n",
            "52244  Sandwiches, Restaurants, Cheesesteaks, Steakho...  \n",
            "52245  Restaurants, Tex-Mex, American (Traditional), ...  \n",
            "52246     Restaurants, Diners, Cafes, Breakfast & Brunch  \n",
            "52247         American (Traditional), Delis, Restaurants  \n",
            "\n",
            "[52245 rows x 28 columns]\n"
          ]
        }
      ],
      "source": [
        "ratings_test = ratings_test.loc[ratings_test.business_id.isin(ratings_train.business_id)]\n",
        "ratings_val = ratings_val.loc[ratings_val.business_id.isin(ratings_train.business_id)]"
      ]
    },
    {
      "cell_type": "code",
      "execution_count": 69,
      "metadata": {
        "id": "W8HzKznghOVr"
      },
      "outputs": [],
      "source": [
        "trainset = ratings_train.loc[:,['user_id', 'business_id', 'rating']]\n",
        "trainset.columns = ['userID', 'itemID','rating']\n",
        "valset = ratings_val.loc[:, ['user_id', 'business_id', 'rating']]\n",
        "valset.columns = ['userID', 'itemID','rating']\n",
        "testset = ratings_holdout.loc[:, ['user_id', 'business_id', 'rating']]\n",
        "testset.columns = ['userID', 'itemID','rating']"
      ]
    },
    {
      "cell_type": "code",
      "execution_count": 70,
      "metadata": {
        "id": "jwAs6vbIhOVs"
      },
      "outputs": [],
      "source": [
        "reader = Reader(rating_scale = (1.0, 5.0))\n",
        "train_data = Dataset.load_from_df(trainset[['userID','itemID','rating']], reader)\n",
        "val_data = Dataset.load_from_df(valset[['userID','itemID','rating']], reader)\n",
        "test_data = Dataset.load_from_df(testset[['userID','itemID','rating']], reader)\n",
        "\n",
        "train_sr = train_data.build_full_trainset()\n",
        "val_sr_before = val_data.build_full_trainset()\n",
        "val_sr = val_sr_before.build_testset()\n",
        "test_sr_before = test_data.build_full_trainset()\n",
        "test_sr = test_sr_before.build_testset()"
      ]
    },
    {
      "cell_type": "code",
      "execution_count": 154,
      "metadata": {
        "colab": {
          "base_uri": "https://localhost:8080/"
        },
        "id": "yz44U0lzhOVt",
        "outputId": "f6e3bf98-49c7-444c-a3ec-6ef6ba68f54a"
      },
      "outputs": [
        {
          "output_type": "stream",
          "name": "stderr",
          "text": [
            "IOPub data rate exceeded.\n",
            "The notebook server will temporarily stop sending output\n",
            "to the client in order to avoid crashing it.\n",
            "To change this limit, set the config variable\n",
            "`--NotebookApp.iopub_data_rate_limit`.\n",
            "\n",
            "Current values:\n",
            "NotebookApp.iopub_data_rate_limit=1000000.0 (bytes/sec)\n",
            "NotebookApp.rate_limit_window=3.0 (secs)\n",
            "\n"
          ]
        }
      ],
      "source": [
        "start_time = time.time()\n",
        "algo_real = SVD(n_epochs = 15, lr_all = 0.005, reg_all = 0.3)\n",
        "algo_real.fit(train_sr)\n",
        "predictions = algo_real.test(test_sr)\n",
        "print(test_sr)"
      ]
    },
    {
      "cell_type": "code",
      "execution_count": 156,
      "metadata": {
        "colab": {
          "base_uri": "https://localhost:8080/"
        },
        "id": "K7AGaB0bhOVu",
        "outputId": "a52c0bd2-26b7-463f-da41-9fb70452d90a"
      },
      "outputs": [
        {
          "output_type": "stream",
          "name": "stdout",
          "text": [
            "RMSE: 1.1843\n",
            "MAE:  0.9494\n",
            "R^2:  0.17342087600945943\n"
          ]
        }
      ],
      "source": [
        "accuracy.rmse(predictions)\n",
        "accuracy.mae(predictions)\n",
        "print(\"R^2: \", r2_score([t[2] for t in predictions], [t[3] for t in predictions]))"
      ]
    },
    {
      "cell_type": "code",
      "execution_count": 157,
      "metadata": {
        "id": "wrJm6ByTZmYl"
      },
      "outputs": [],
      "source": [
        "from dataclasses import make_dataclass\n",
        "svd_preds = pd.DataFrame(predictions)\n",
        "svd_preds.rename(columns={'r_ui': 'rating', 'est': 'pred_rating'}, inplace=True)\n",
        "svd_preds = svd_preds.drop(columns = ['details'])"
      ]
    },
    {
      "cell_type": "code",
      "execution_count": 74,
      "metadata": {
        "colab": {
          "base_uri": "https://localhost:8080/"
        },
        "id": "-YJLzjy4ZUG9",
        "outputId": "832747fa-a76c-4c3b-fb90-5651876a7e1f"
      },
      "outputs": [
        {
          "output_type": "execute_result",
          "data": {
            "text/plain": [
              "SpearmanrResult(correlation=0.42210842644568014, pvalue=0.0)"
            ]
          },
          "metadata": {},
          "execution_count": 74
        }
      ],
      "source": [
        "test_ranks = pd.Series(svd_preds[\"rating\"]).rank()\n",
        "pred_ranks = pd.Series(svd_preds[\"pred_rating\"]).rank()\n",
        "stats.spearmanr(test_ranks, pred_ranks)"
      ]
    },
    {
      "cell_type": "code",
      "source": [
        "#Ensure this is personalized by seeing if different users get different ratings\n",
        "#for the same business\n",
        "grouped = svd_preds.groupby([\"iid\"])\n",
        "i = 0\n",
        "for key, item in grouped:\n",
        "    if i == 3:\n",
        "      break\n",
        "    print(grouped.get_group(key), \"\\n\\n\")\n",
        "    i += 1"
      ],
      "metadata": {
        "colab": {
          "base_uri": "https://localhost:8080/"
        },
        "id": "Xjhn_qGPJr4z",
        "outputId": "057a9b4f-2d68-41d7-ce76-d0683968e363"
      },
      "execution_count": 160,
      "outputs": [
        {
          "output_type": "stream",
          "name": "stdout",
          "text": [
            "                          uid                     iid  rating  pred_rating\n",
            "51327  rRtc9eq1iPU6tJJ6Tm_U4w  -0G_6-KFGpCpxTUlVXCMYQ     2.0     3.697044 \n",
            "\n",
            "\n",
            "                          uid                     iid  rating  pred_rating\n",
            "16190  U0zK340l3UzKzsGVH1oJmQ  -0TffRSXXIlBYVbb5AwfTg     4.0     4.302129\n",
            "16191  kh8uvYoyXGGfRXRDFIlRYA  -0TffRSXXIlBYVbb5AwfTg     5.0     4.185842\n",
            "16192  7cVwlQdaX3HucMKYl7RgjQ  -0TffRSXXIlBYVbb5AwfTg     5.0     3.881306\n",
            "16193  LkgCqDixALCapNToEQxkOg  -0TffRSXXIlBYVbb5AwfTg     5.0     4.338365\n",
            "16194  LpQjOqPXIvkYj0E71kiMFA  -0TffRSXXIlBYVbb5AwfTg     5.0     4.202281\n",
            "16195  _paclj39JIG8yWCHxwf2ag  -0TffRSXXIlBYVbb5AwfTg     5.0     4.370590\n",
            "16196  fMjQkYALgQDBoN_QxlBxJw  -0TffRSXXIlBYVbb5AwfTg     5.0     4.153775\n",
            "16197  3LIIBISZfTbe4SyIPjCq0w  -0TffRSXXIlBYVbb5AwfTg     5.0     3.831028\n",
            "16198  K6Jqw4_mIJ6Qwh0N07T69Q  -0TffRSXXIlBYVbb5AwfTg     5.0     4.411656\n",
            "16199  4guFRrwlYqDQzv4yW25akA  -0TffRSXXIlBYVbb5AwfTg     5.0     4.209783\n",
            "16200  JKhZ4unrzrwr5FySqj_Y4g  -0TffRSXXIlBYVbb5AwfTg     5.0     4.189091\n",
            "16201  iFoyT7lmT7UDxLV3botlKQ  -0TffRSXXIlBYVbb5AwfTg     4.0     3.997361\n",
            "16202  MNQo9-DgqncsFqxL73qn4w  -0TffRSXXIlBYVbb5AwfTg     5.0     3.983176\n",
            "16203  b-05O8JtzamgsJOrfhkw7g  -0TffRSXXIlBYVbb5AwfTg     5.0     4.415995\n",
            "16204  q777jIvYZcGnzgxIHotJtQ  -0TffRSXXIlBYVbb5AwfTg     3.0     3.938110\n",
            "16205  HNh3KomO_n2SQJJeYamp4w  -0TffRSXXIlBYVbb5AwfTg     5.0     4.049183\n",
            "16206  d4tDCKq2Rpr7TNE7yJQKuQ  -0TffRSXXIlBYVbb5AwfTg     5.0     4.346288\n",
            "16207  hA0EYw3weyjFl2CYVPbvTA  -0TffRSXXIlBYVbb5AwfTg     4.0     4.294030\n",
            "16208  FSR2WfAqiCX9tg91fsluZw  -0TffRSXXIlBYVbb5AwfTg     4.0     4.223222\n",
            "16209  pZ3sVJNckofgIbvPjm5CEQ  -0TffRSXXIlBYVbb5AwfTg     5.0     4.293310\n",
            "16210  oYCbUgZm76GdzTMbHchaLQ  -0TffRSXXIlBYVbb5AwfTg     5.0     4.067239\n",
            "16211  nF3OVTV74nlOpvCEMsNw5g  -0TffRSXXIlBYVbb5AwfTg     5.0     4.037045 \n",
            "\n",
            "\n",
            "                          uid                     iid  rating  pred_rating\n",
            "28588  SBl_EM9aOP3gdUdapkys2A  -0Ym1Wg3bXd_TDz8JtvOQg     2.0     4.180489\n",
            "28589  wsrxm02UVfqiAA-O_rv01Q  -0Ym1Wg3bXd_TDz8JtvOQg     3.0     4.184893\n",
            "28590  TnQeNvdvLsGLnY12Bpcltg  -0Ym1Wg3bXd_TDz8JtvOQg     5.0     4.206677 \n",
            "\n",
            "\n"
          ]
        }
      ]
    },
    {
      "cell_type": "markdown",
      "metadata": {
        "id": "TZDZVsC5CqK4"
      },
      "source": [
        "# Hybrid Content-Collaborative"
      ]
    },
    {
      "cell_type": "markdown",
      "metadata": {
        "id": "U42KjvpdC7Mu"
      },
      "source": [
        "## Content Model"
      ]
    },
    {
      "cell_type": "code",
      "execution_count": 76,
      "metadata": {
        "colab": {
          "base_uri": "https://localhost:8080/"
        },
        "id": "DojusnUeC8Y4",
        "outputId": "5dd3074c-e659-4cbf-85eb-4ea59b4ae54c"
      },
      "outputs": [
        {
          "output_type": "stream",
          "name": "stdout",
          "text": [
            "[nltk_data] Downloading package stopwords to /root/nltk_data...\n",
            "[nltk_data]   Unzipping corpora/stopwords.zip.\n"
          ]
        }
      ],
      "source": [
        "from sklearn.feature_extraction.text import TfidfVectorizer\n",
        "from sklearn.metrics.pairwise import linear_kernel\n",
        "import nltk\n",
        "nltk.download('stopwords')\n",
        "\n",
        "from nltk.corpus import stopwords\n",
        "from nltk.tokenize import WordPunctTokenizer\n",
        "from nltk.stem.porter import PorterStemmer\n",
        "from nltk.tokenize import word_tokenize\n",
        "import string\n",
        "import re"
      ]
    },
    {
      "cell_type": "code",
      "execution_count": 77,
      "metadata": {
        "id": "Vwq-Cz1bDCY7"
      },
      "outputs": [],
      "source": [
        "ratings_train = process(ratings_train_.copy())\n",
        "ratings_cv = process(ratings_cv_.copy())\n",
        "ratings_holdout = process(ratings_holdout_.copy())\n",
        "\n",
        "ratings_train = process(ratings_train_.copy())\n",
        "ratings_test = process(ratings_holdout_.copy())\n",
        "ratings_val = process(ratings_cv_.copy())"
      ]
    },
    {
      "cell_type": "code",
      "execution_count": 78,
      "metadata": {
        "id": "fQXgs_aQDEnv"
      },
      "outputs": [],
      "source": [
        "def clean_text(text):\n",
        "    # substitute some irregular context \n",
        "    text = re.sub(r\"what's\", \"what is \", text)\n",
        "    text = re.sub(r\"\\'s\", \" \", text)\n",
        "    text = re.sub(r\"\\'ve\", \" have \", text)\n",
        "    text = re.sub(r\"n't\", \" not \", text)\n",
        "    text = re.sub(r\"i'm\", \"i am \", text)\n",
        "    text = re.sub(r\"\\'re\", \" are \", text)\n",
        "    text = re.sub(r\"\\'d\", \" would \", text)\n",
        "    text = re.sub(r\"\\'ll\", \" will \", text)\n",
        "    text = re.sub(r\",\", \" \", text)\n",
        "    text = re.sub(r\"\\.\", \" \", text)\n",
        "    text = re.sub(r\"!\", \" ! \", text)\n",
        "    text = re.sub(r\"\\/\", \" \", text)\n",
        "    text = re.sub(r\"\\^\", \" ^ \", text)\n",
        "    text = re.sub(r\"\\+\", \" + \", text)\n",
        "    text = re.sub(r\"\\-\", \" - \", text)\n",
        "    text = re.sub(r\"\\=\", \" = \", text)\n",
        "    text = re.sub(r\"'\", \" \", text)\n",
        "    text = re.sub(r\"(\\d+)(k)\", r\"\\g<1>000\", text)\n",
        "    text = re.sub(r\":\", \" : \", text)\n",
        "    text = re.sub(r\"\\s{2,}\", \" \", text)\n",
        "    # remove numbers\n",
        "    text = re.sub(r\"\\d+\", \"\", text)\n",
        "    \n",
        "    ## Convert words to lower case and split them\n",
        "    text = text.lower().split()\n",
        "    \n",
        "    # remove punctuations from each word\n",
        "    table = str.maketrans('','', string.punctuation)\n",
        "    text = [w.translate(table) for w in text]\n",
        "    \n",
        "    \n",
        "    ## Remove stop words\n",
        "    stops = set(stopwords.words(\"english\"))\n",
        "    text = [w for w in text if not w in stops and len(w) >= 3]\n",
        "    \n",
        "    # Replace slang terms\n",
        "    # Word stemming\n",
        "    \n",
        "#     porter = PorterStemmer()\n",
        "#     text = [porter.stem(word) for word in text]\n",
        "    \n",
        "    text = \" \".join(text)\n",
        "    \n",
        "    return text\n",
        "\n",
        "ratings_train['text'] = ratings_train['text'].apply(clean_text)"
      ]
    },
    {
      "cell_type": "code",
      "execution_count": 79,
      "metadata": {
        "colab": {
          "base_uri": "https://localhost:8080/"
        },
        "id": "hU4OrJndDJdT",
        "outputId": "9815e78a-9e4b-4583-c762-5187f8deb6a0"
      },
      "outputs": [
        {
          "output_type": "stream",
          "name": "stderr",
          "text": [
            "/usr/local/lib/python3.7/dist-packages/sklearn/feature_extraction/text.py:517: UserWarning: The parameter 'token_pattern' will not be used since 'tokenizer' is not None'\n",
            "  \"The parameter 'token_pattern' will not be used\"\n"
          ]
        }
      ],
      "source": [
        "# concatenate all reviews for each business for each rating value\n",
        "ratings_train_sub = ratings_train[['user_id', 'business_id', 'rating', 'text']]\n",
        "# ratings_train_sub['ct'] = 0\n",
        "userid_df = ratings_train_sub.groupby(['user_id', 'rating']).agg({'text': ' '.join, 'business_id': 'count'})\n",
        "# retain a copy of indexed dataset\n",
        "businessid_userid_df = ratings_train_sub.set_index(['user_id', 'business_id', 'rating'])\n",
        "\n",
        "## Learn TF-IDF vector representation for each concatenated review\n",
        "# which will be used for similarity calculation\n",
        "userid_vectorizer = TfidfVectorizer(tokenizer = WordPunctTokenizer().tokenize, analyzer='word', \\\n",
        "                             stop_words='english', max_features=50)\n",
        "userid_tfidf_fit = userid_vectorizer.fit(userid_df['text'])\n"
      ]
    },
    {
      "cell_type": "code",
      "execution_count": 80,
      "metadata": {
        "id": "1_BFJqKEDMBe"
      },
      "outputs": [],
      "source": [
        "# Algorithm implementation \n",
        "\n",
        "def predict_approach_1(selected_uid, selected_bid): \n",
        "    # cosine similarity\n",
        "    def text_similarity(v1, v2):\n",
        "        return np.dot(v1, v2.T).toarray()[0][0]\n",
        "    \n",
        "    pred_rating = -1\n",
        "\n",
        "    users_reviews = userid_df\n",
        "\n",
        "    selected_business = businessid_userid_df.xs(selected_bid, level='business_id').reset_index()\n",
        "    users_who_review_business = selected_business.user_id\n",
        "\n",
        "    user_reviews_userID = users_reviews.xs(selected_uid, level='user_id')\n",
        "\n",
        "    w_ui_u_vec = []\n",
        "    for ui in users_who_review_business:\n",
        "        user_reviews_ui = users_reviews.xs(ui, level='user_id')\n",
        "        rating_range = [1.0, 2.0, 3.0, 4.0, 5.0]\n",
        "        valid_rating_range_1 = user_reviews_userID.reset_index()['rating'].tolist()\n",
        "        valid_rating_range_2 = user_reviews_ui.reset_index()['rating'].tolist()\n",
        "        w_ui_u = -100\n",
        "\n",
        "        for r in rating_range:\n",
        "            if (r not in valid_rating_range_1) or (r not in valid_rating_range_2):\n",
        "                continue\n",
        "            else:\n",
        "                user_reviews_r = user_reviews_userID.loc[r, 'text']\n",
        "                ui_reviews_r = user_reviews_ui.loc[r, 'text']\n",
        "                user_reviews_r_vec = userid_tfidf_fit.transform([user_reviews_r])\n",
        "                ui_reviews_r_vec = userid_tfidf_fit.transform([ui_reviews_r])\n",
        "                # similarity_r = text_similarity(user_reviews_r, ui_reviews_r)\n",
        "                similarity_r = text_similarity(user_reviews_r_vec, ui_reviews_r_vec)\n",
        "                if similarity_r > w_ui_u:\n",
        "                    w_ui_u = similarity_r\n",
        "        w_ui_u_vec.append(w_ui_u)\n",
        "\n",
        "    tmp = user_reviews_userID.reset_index()\n",
        "    r_u_bar = sum(tmp.rating * tmp.business_id) / sum(tmp.business_id) # business_id is number of ratings \n",
        "                                                                        # that has correpsonding value \n",
        "    if sum(w_ui_u_vec) == 0:\n",
        "        pred_rating = r_u_bar + sum(w_ui_u_vec \\\n",
        "                                * (selected_business.rating - np.mean(selected_business.rating))) \\\n",
        "                                * 1.0 / sum(w_ui_u_vec)\n",
        "    else:\n",
        "        pred_rating = r_u_bar\n",
        "    return pred_rating"
      ]
    },
    {
      "cell_type": "code",
      "execution_count": 81,
      "metadata": {
        "id": "MSk-rfpkDTmD"
      },
      "outputs": [],
      "source": [
        "tmp_df = ratings_cv[ratings_cv['user_id'].isin(ratings_train.user_id)].reset_index()\n",
        "ratings_cv_filtered = tmp_df[tmp_df['business_id'].isin(ratings_train.business_id)]\n",
        "\n",
        "tmp_df = ratings_holdout[ratings_holdout['user_id'].isin(ratings_train.user_id)].reset_index()\n",
        "ratings_holdout_filtered = tmp_df[tmp_df['business_id'].isin(ratings_train.business_id)]"
      ]
    },
    {
      "cell_type": "code",
      "execution_count": 82,
      "metadata": {
        "colab": {
          "base_uri": "https://localhost:8080/",
          "height": 1000
        },
        "id": "3OJ_6secDWLt",
        "outputId": "5a586d22-74b0-423b-d04c-13298c8df25f"
      },
      "outputs": [
        {
          "output_type": "stream",
          "name": "stdout",
          "text": [
            "                      user_id             business_id  rating  pred_rating\n",
            "0      1WHRWwQmZOZDAhp2Qyny4g  uZsStnH9w2xY15og9VsQZA     4.0           -2\n",
            "1      rSP3VqKJ0vgisqe6BN7yFA  uZsStnH9w2xY15og9VsQZA     5.0           -2\n",
            "2      elTQdVdXjiCck3CXbxJj6Q  uZsStnH9w2xY15og9VsQZA     2.0           -2\n",
            "3      9ceS27E9iY62R9d3lHZN5g  uZsStnH9w2xY15og9VsQZA     2.0           -2\n",
            "4      Zxuhm2MkbvxDhhvaY0IzZg  uZsStnH9w2xY15og9VsQZA     2.0           -2\n",
            "...                       ...                     ...     ...          ...\n",
            "53571  iWb-6tFQqn1eILNkhKjnHQ  qM2gfO-cqpDzxmIX-XzuWA     5.0           -2\n",
            "53572  T3vsorbX_ugAZtmqg_rdnQ  c56PgVwTX9LYQ0vqGU8mTg     4.0           -2\n",
            "53573  3hcm4-ObZduLv2nDtobPvw  fmlU1_s_2hAHHpXlCIXPVg     4.0           -2\n",
            "53574  -p4ZSHsD5UtJHG-3UpnN2A  hy1YKIyhQ04CyF9ntJHVFg     4.0           -2\n",
            "53575  Q1ftfVH8yKEvUxKyZ6GUIQ  bo0NA4pzxc6WBHKTBQkVSw     5.0           -2\n",
            "\n",
            "[53571 rows x 4 columns]\n"
          ]
        },
        {
          "output_type": "stream",
          "name": "stderr",
          "text": [
            "997it [27:35,  1.47it/s]/usr/local/lib/python3.7/dist-packages/ipykernel_launcher.py:43: RuntimeWarning: invalid value encountered in double_scalars\n",
            "8314it [5:38:28,  1.64s/it]/usr/local/lib/python3.7/dist-packages/ipykernel_launcher.py:43: RuntimeWarning: invalid value encountered in double_scalars\n",
            "10008it [6:33:03,  2.66it/s]/usr/local/lib/python3.7/dist-packages/ipykernel_launcher.py:43: RuntimeWarning: invalid value encountered in double_scalars\n",
            "18764it [10:13:34,  1.96s/it]\n"
          ]
        },
        {
          "output_type": "error",
          "ename": "KeyboardInterrupt",
          "evalue": "ignored",
          "traceback": [
            "\u001b[0;31m---------------------------------------------------------------------------\u001b[0m",
            "\u001b[0;31mKeyboardInterrupt\u001b[0m                         Traceback (most recent call last)",
            "\u001b[0;32m<ipython-input-82-df6d6feab196>\u001b[0m in \u001b[0;36m<module>\u001b[0;34m()\u001b[0m\n\u001b[1;32m      8\u001b[0m \u001b[0;32mfor\u001b[0m \u001b[0;34m(\u001b[0m\u001b[0mu\u001b[0m\u001b[0;34m,\u001b[0m \u001b[0mb\u001b[0m\u001b[0;34m)\u001b[0m \u001b[0;32min\u001b[0m \u001b[0mtqdm\u001b[0m\u001b[0;34m(\u001b[0m\u001b[0mpredict_df_1\u001b[0m\u001b[0;34m.\u001b[0m\u001b[0miterrows\u001b[0m\u001b[0;34m(\u001b[0m\u001b[0;34m)\u001b[0m\u001b[0;34m,\u001b[0m \u001b[0mposition\u001b[0m\u001b[0;34m=\u001b[0m\u001b[0;36m0\u001b[0m\u001b[0;34m,\u001b[0m \u001b[0mleave\u001b[0m\u001b[0;34m=\u001b[0m\u001b[0;32mTrue\u001b[0m\u001b[0;34m)\u001b[0m\u001b[0;34m:\u001b[0m\u001b[0;34m\u001b[0m\u001b[0;34m\u001b[0m\u001b[0m\n\u001b[1;32m      9\u001b[0m     \u001b[0;32mtry\u001b[0m\u001b[0;34m:\u001b[0m\u001b[0;34m\u001b[0m\u001b[0;34m\u001b[0m\u001b[0m\n\u001b[0;32m---> 10\u001b[0;31m         \u001b[0mpred\u001b[0m \u001b[0;34m=\u001b[0m \u001b[0mpredict_approach_1\u001b[0m\u001b[0;34m(\u001b[0m\u001b[0mb\u001b[0m\u001b[0;34m.\u001b[0m\u001b[0muser_id\u001b[0m\u001b[0;34m,\u001b[0m \u001b[0mb\u001b[0m\u001b[0;34m.\u001b[0m\u001b[0mbusiness_id\u001b[0m\u001b[0;34m)\u001b[0m\u001b[0;34m\u001b[0m\u001b[0;34m\u001b[0m\u001b[0m\n\u001b[0m\u001b[1;32m     11\u001b[0m         \u001b[0mpredict_df_1\u001b[0m\u001b[0;34m.\u001b[0m\u001b[0mloc\u001b[0m\u001b[0;34m[\u001b[0m\u001b[0mu\u001b[0m\u001b[0;34m,\u001b[0m \u001b[0;34m'pred_rating'\u001b[0m\u001b[0;34m]\u001b[0m \u001b[0;34m=\u001b[0m \u001b[0mpred\u001b[0m\u001b[0;34m\u001b[0m\u001b[0;34m\u001b[0m\u001b[0m\n\u001b[1;32m     12\u001b[0m     \u001b[0;32mexcept\u001b[0m \u001b[0mAttributeError\u001b[0m\u001b[0;34m:\u001b[0m\u001b[0;34m\u001b[0m\u001b[0;34m\u001b[0m\u001b[0m\n",
            "\u001b[0;32m<ipython-input-80-2bec0ff2ab50>\u001b[0m in \u001b[0;36mpredict_approach_1\u001b[0;34m(selected_uid, selected_bid)\u001b[0m\n\u001b[1;32m     17\u001b[0m     \u001b[0mw_ui_u_vec\u001b[0m \u001b[0;34m=\u001b[0m \u001b[0;34m[\u001b[0m\u001b[0;34m]\u001b[0m\u001b[0;34m\u001b[0m\u001b[0;34m\u001b[0m\u001b[0m\n\u001b[1;32m     18\u001b[0m     \u001b[0;32mfor\u001b[0m \u001b[0mui\u001b[0m \u001b[0;32min\u001b[0m \u001b[0musers_who_review_business\u001b[0m\u001b[0;34m:\u001b[0m\u001b[0;34m\u001b[0m\u001b[0;34m\u001b[0m\u001b[0m\n\u001b[0;32m---> 19\u001b[0;31m         \u001b[0muser_reviews_ui\u001b[0m \u001b[0;34m=\u001b[0m \u001b[0musers_reviews\u001b[0m\u001b[0;34m.\u001b[0m\u001b[0mxs\u001b[0m\u001b[0;34m(\u001b[0m\u001b[0mui\u001b[0m\u001b[0;34m,\u001b[0m \u001b[0mlevel\u001b[0m\u001b[0;34m=\u001b[0m\u001b[0;34m'user_id'\u001b[0m\u001b[0;34m)\u001b[0m\u001b[0;34m\u001b[0m\u001b[0;34m\u001b[0m\u001b[0m\n\u001b[0m\u001b[1;32m     20\u001b[0m         \u001b[0mrating_range\u001b[0m \u001b[0;34m=\u001b[0m \u001b[0;34m[\u001b[0m\u001b[0;36m1.0\u001b[0m\u001b[0;34m,\u001b[0m \u001b[0;36m2.0\u001b[0m\u001b[0;34m,\u001b[0m \u001b[0;36m3.0\u001b[0m\u001b[0;34m,\u001b[0m \u001b[0;36m4.0\u001b[0m\u001b[0;34m,\u001b[0m \u001b[0;36m5.0\u001b[0m\u001b[0;34m]\u001b[0m\u001b[0;34m\u001b[0m\u001b[0;34m\u001b[0m\u001b[0m\n\u001b[1;32m     21\u001b[0m         \u001b[0mvalid_rating_range_1\u001b[0m \u001b[0;34m=\u001b[0m \u001b[0muser_reviews_userID\u001b[0m\u001b[0;34m.\u001b[0m\u001b[0mreset_index\u001b[0m\u001b[0;34m(\u001b[0m\u001b[0;34m)\u001b[0m\u001b[0;34m[\u001b[0m\u001b[0;34m'rating'\u001b[0m\u001b[0;34m]\u001b[0m\u001b[0;34m.\u001b[0m\u001b[0mtolist\u001b[0m\u001b[0;34m(\u001b[0m\u001b[0;34m)\u001b[0m\u001b[0;34m\u001b[0m\u001b[0;34m\u001b[0m\u001b[0m\n",
            "\u001b[0;32m/usr/local/lib/python3.7/dist-packages/pandas/core/generic.py\u001b[0m in \u001b[0;36mxs\u001b[0;34m(self, key, axis, level, drop_level)\u001b[0m\n\u001b[1;32m   3746\u001b[0m             \u001b[0;32mif\u001b[0m \u001b[0;32mnot\u001b[0m \u001b[0misinstance\u001b[0m\u001b[0;34m(\u001b[0m\u001b[0mlabels\u001b[0m\u001b[0;34m,\u001b[0m \u001b[0mMultiIndex\u001b[0m\u001b[0;34m)\u001b[0m\u001b[0;34m:\u001b[0m\u001b[0;34m\u001b[0m\u001b[0;34m\u001b[0m\u001b[0m\n\u001b[1;32m   3747\u001b[0m                 \u001b[0;32mraise\u001b[0m \u001b[0mTypeError\u001b[0m\u001b[0;34m(\u001b[0m\u001b[0;34m\"Index must be a MultiIndex\"\u001b[0m\u001b[0;34m)\u001b[0m\u001b[0;34m\u001b[0m\u001b[0;34m\u001b[0m\u001b[0m\n\u001b[0;32m-> 3748\u001b[0;31m             \u001b[0mloc\u001b[0m\u001b[0;34m,\u001b[0m \u001b[0mnew_ax\u001b[0m \u001b[0;34m=\u001b[0m \u001b[0mlabels\u001b[0m\u001b[0;34m.\u001b[0m\u001b[0mget_loc_level\u001b[0m\u001b[0;34m(\u001b[0m\u001b[0mkey\u001b[0m\u001b[0;34m,\u001b[0m \u001b[0mlevel\u001b[0m\u001b[0;34m=\u001b[0m\u001b[0mlevel\u001b[0m\u001b[0;34m,\u001b[0m \u001b[0mdrop_level\u001b[0m\u001b[0;34m=\u001b[0m\u001b[0mdrop_level\u001b[0m\u001b[0;34m)\u001b[0m\u001b[0;34m\u001b[0m\u001b[0;34m\u001b[0m\u001b[0m\n\u001b[0m\u001b[1;32m   3749\u001b[0m \u001b[0;34m\u001b[0m\u001b[0m\n\u001b[1;32m   3750\u001b[0m             \u001b[0;31m# create the tuple of the indexer\u001b[0m\u001b[0;34m\u001b[0m\u001b[0;34m\u001b[0m\u001b[0;34m\u001b[0m\u001b[0m\n",
            "\u001b[0;32m/usr/local/lib/python3.7/dist-packages/pandas/core/indexes/multi.py\u001b[0m in \u001b[0;36mget_loc_level\u001b[0;34m(self, key, level, drop_level)\u001b[0m\n\u001b[1;32m   3009\u001b[0m         \u001b[0;32melse\u001b[0m\u001b[0;34m:\u001b[0m\u001b[0;34m\u001b[0m\u001b[0;34m\u001b[0m\u001b[0m\n\u001b[1;32m   3010\u001b[0m             \u001b[0mlevel\u001b[0m \u001b[0;34m=\u001b[0m \u001b[0;34m[\u001b[0m\u001b[0mself\u001b[0m\u001b[0;34m.\u001b[0m\u001b[0m_get_level_number\u001b[0m\u001b[0;34m(\u001b[0m\u001b[0mlev\u001b[0m\u001b[0;34m)\u001b[0m \u001b[0;32mfor\u001b[0m \u001b[0mlev\u001b[0m \u001b[0;32min\u001b[0m \u001b[0mlevel\u001b[0m\u001b[0;34m]\u001b[0m\u001b[0;34m\u001b[0m\u001b[0;34m\u001b[0m\u001b[0m\n\u001b[0;32m-> 3011\u001b[0;31m         \u001b[0;32mreturn\u001b[0m \u001b[0mself\u001b[0m\u001b[0;34m.\u001b[0m\u001b[0m_get_loc_level\u001b[0m\u001b[0;34m(\u001b[0m\u001b[0mkey\u001b[0m\u001b[0;34m,\u001b[0m \u001b[0mlevel\u001b[0m\u001b[0;34m=\u001b[0m\u001b[0mlevel\u001b[0m\u001b[0;34m,\u001b[0m \u001b[0mdrop_level\u001b[0m\u001b[0;34m=\u001b[0m\u001b[0mdrop_level\u001b[0m\u001b[0;34m)\u001b[0m\u001b[0;34m\u001b[0m\u001b[0;34m\u001b[0m\u001b[0m\n\u001b[0m\u001b[1;32m   3012\u001b[0m \u001b[0;34m\u001b[0m\u001b[0m\n\u001b[1;32m   3013\u001b[0m     \u001b[0;32mdef\u001b[0m \u001b[0m_get_loc_level\u001b[0m\u001b[0;34m(\u001b[0m\u001b[0mself\u001b[0m\u001b[0;34m,\u001b[0m \u001b[0mkey\u001b[0m\u001b[0;34m,\u001b[0m \u001b[0mlevel\u001b[0m\u001b[0;34m:\u001b[0m \u001b[0mint\u001b[0m \u001b[0;34m|\u001b[0m \u001b[0mlist\u001b[0m\u001b[0;34m[\u001b[0m\u001b[0mint\u001b[0m\u001b[0;34m]\u001b[0m \u001b[0;34m=\u001b[0m \u001b[0;36m0\u001b[0m\u001b[0;34m,\u001b[0m \u001b[0mdrop_level\u001b[0m\u001b[0;34m:\u001b[0m \u001b[0mbool\u001b[0m \u001b[0;34m=\u001b[0m \u001b[0;32mTrue\u001b[0m\u001b[0;34m)\u001b[0m\u001b[0;34m:\u001b[0m\u001b[0;34m\u001b[0m\u001b[0;34m\u001b[0m\u001b[0m\n",
            "\u001b[0;32m/usr/local/lib/python3.7/dist-packages/pandas/core/indexes/multi.py\u001b[0m in \u001b[0;36m_get_loc_level\u001b[0;34m(self, key, level, drop_level)\u001b[0m\n\u001b[1;32m   3110\u001b[0m                 \u001b[0;32mreturn\u001b[0m \u001b[0mindexer\u001b[0m\u001b[0;34m,\u001b[0m \u001b[0mmaybe_mi_droplevels\u001b[0m\u001b[0;34m(\u001b[0m\u001b[0mindexer\u001b[0m\u001b[0;34m,\u001b[0m \u001b[0milevels\u001b[0m\u001b[0;34m,\u001b[0m \u001b[0mdrop_level\u001b[0m\u001b[0;34m)\u001b[0m\u001b[0;34m\u001b[0m\u001b[0;34m\u001b[0m\u001b[0m\n\u001b[1;32m   3111\u001b[0m         \u001b[0;32melse\u001b[0m\u001b[0;34m:\u001b[0m\u001b[0;34m\u001b[0m\u001b[0;34m\u001b[0m\u001b[0m\n\u001b[0;32m-> 3112\u001b[0;31m             \u001b[0mindexer\u001b[0m \u001b[0;34m=\u001b[0m \u001b[0mself\u001b[0m\u001b[0;34m.\u001b[0m\u001b[0m_get_level_indexer\u001b[0m\u001b[0;34m(\u001b[0m\u001b[0mkey\u001b[0m\u001b[0;34m,\u001b[0m \u001b[0mlevel\u001b[0m\u001b[0;34m=\u001b[0m\u001b[0mlevel\u001b[0m\u001b[0;34m)\u001b[0m\u001b[0;34m\u001b[0m\u001b[0;34m\u001b[0m\u001b[0m\n\u001b[0m\u001b[1;32m   3113\u001b[0m             \u001b[0;32mreturn\u001b[0m \u001b[0mindexer\u001b[0m\u001b[0;34m,\u001b[0m \u001b[0mmaybe_mi_droplevels\u001b[0m\u001b[0;34m(\u001b[0m\u001b[0mindexer\u001b[0m\u001b[0;34m,\u001b[0m \u001b[0;34m[\u001b[0m\u001b[0mlevel\u001b[0m\u001b[0;34m]\u001b[0m\u001b[0;34m,\u001b[0m \u001b[0mdrop_level\u001b[0m\u001b[0;34m)\u001b[0m\u001b[0;34m\u001b[0m\u001b[0;34m\u001b[0m\u001b[0m\n\u001b[1;32m   3114\u001b[0m \u001b[0;34m\u001b[0m\u001b[0m\n",
            "\u001b[0;32m/usr/local/lib/python3.7/dist-packages/pandas/core/indexes/multi.py\u001b[0m in \u001b[0;36m_get_level_indexer\u001b[0;34m(self, key, level, indexer)\u001b[0m\n\u001b[1;32m   3217\u001b[0m             \u001b[0;32melse\u001b[0m\u001b[0;34m:\u001b[0m\u001b[0;34m\u001b[0m\u001b[0;34m\u001b[0m\u001b[0m\n\u001b[1;32m   3218\u001b[0m                 \u001b[0mstart\u001b[0m \u001b[0;34m=\u001b[0m \u001b[0mlevel_codes\u001b[0m\u001b[0;34m.\u001b[0m\u001b[0msearchsorted\u001b[0m\u001b[0;34m(\u001b[0m\u001b[0midx\u001b[0m\u001b[0;34m,\u001b[0m \u001b[0mside\u001b[0m\u001b[0;34m=\u001b[0m\u001b[0;34m\"left\"\u001b[0m\u001b[0;34m)\u001b[0m\u001b[0;34m\u001b[0m\u001b[0;34m\u001b[0m\u001b[0m\n\u001b[0;32m-> 3219\u001b[0;31m                 \u001b[0mend\u001b[0m \u001b[0;34m=\u001b[0m \u001b[0mlevel_codes\u001b[0m\u001b[0;34m.\u001b[0m\u001b[0msearchsorted\u001b[0m\u001b[0;34m(\u001b[0m\u001b[0midx\u001b[0m\u001b[0;34m,\u001b[0m \u001b[0mside\u001b[0m\u001b[0;34m=\u001b[0m\u001b[0;34m\"right\"\u001b[0m\u001b[0;34m)\u001b[0m\u001b[0;34m\u001b[0m\u001b[0;34m\u001b[0m\u001b[0m\n\u001b[0m\u001b[1;32m   3220\u001b[0m \u001b[0;34m\u001b[0m\u001b[0m\n\u001b[1;32m   3221\u001b[0m             \u001b[0;32mif\u001b[0m \u001b[0mstart\u001b[0m \u001b[0;34m==\u001b[0m \u001b[0mend\u001b[0m\u001b[0;34m:\u001b[0m\u001b[0;34m\u001b[0m\u001b[0;34m\u001b[0m\u001b[0m\n",
            "\u001b[0;31mKeyboardInterrupt\u001b[0m: "
          ]
        }
      ],
      "source": [
        "#Interrupted when there was sufficient data\n",
        "approach_1_start = time.time()\n",
        "\n",
        "predict_df_1 = ratings_cv_filtered.loc[:, ['user_id', 'business_id', 'rating']]\n",
        "predict_df_1['pred_rating'] = -2\n",
        "\n",
        "print(predict_df_1)\n",
        "\n",
        "for (u, b) in tqdm(predict_df_1.iterrows(), position=0, leave=True):\n",
        "    try:\n",
        "        pred = predict_approach_1(b.user_id, b.business_id)\n",
        "        predict_df_1.loc[u, 'pred_rating'] = pred \n",
        "    except AttributeError:\n",
        "        if sum(predict_df_1.pred_rating == -2) == 0:\n",
        "            print('Finished')\n",
        "        else:\n",
        "            print('Error: Not Finished')\n",
        "            print('Currently at u = {}'.format(u))\n",
        "approach_1_duration = (time.time() - approach_1_start) * 1.0 / 60 \n",
        "print('The approach 1 takes {} minutes to run.'.format(approach_1_duration))"
      ]
    },
    {
      "cell_type": "code",
      "source": [
        "#Ensure that it is personalized. Different users get different ratings for the \n",
        "# same business. Some are still initialized to -2. \n",
        "trial = predict_df_1.groupby([\"business_id\"])\n",
        "i = 0\n",
        "for key, item in trial:\n",
        "    if i == 3:\n",
        "      break\n",
        "    print(trial.get_group(key), \"\\n\\n\")\n",
        "    i+=1"
      ],
      "metadata": {
        "colab": {
          "base_uri": "https://localhost:8080/"
        },
        "id": "PaymRHiVL1ES",
        "outputId": "ac689599-6f7a-4105-cecb-c17a75ae4d37"
      },
      "execution_count": 145,
      "outputs": [
        {
          "output_type": "stream",
          "name": "stdout",
          "text": [
            "                      user_id             business_id  rating  pred_rating\n",
            "30572  9NFgiY_BLhODi93vbhJcSQ  --ZVrH2X2QXBFdCilbirsw     5.0         -2.0 \n",
            "\n",
            "\n",
            "                      user_id             business_id  rating  pred_rating\n",
            "45480  5YR_DM50DTMEK_8ydDjaaw  -0G_6-KFGpCpxTUlVXCMYQ     3.0         -2.0\n",
            "45481  UsqANwR2z2k9SfSBekpjKg  -0G_6-KFGpCpxTUlVXCMYQ     3.0         -2.0 \n",
            "\n",
            "\n",
            "                     user_id             business_id  rating  pred_rating\n",
            "4610  NqZJMXmwEtirJvx-qpyLmQ  -0TffRSXXIlBYVbb5AwfTg     3.0     3.527027\n",
            "4611  ED7fXMpz8F890Zs1ev1QuQ  -0TffRSXXIlBYVbb5AwfTg     4.0     4.200000\n",
            "4612  aQ7eFXxLJy_ui7ljsuVpAQ  -0TffRSXXIlBYVbb5AwfTg     5.0     5.000000\n",
            "4613  QX0NFcIf88K_jFBwXwvC9g  -0TffRSXXIlBYVbb5AwfTg     1.0     4.142857\n",
            "4614  2D_f_K3DVHqucxxnBRmaeA  -0TffRSXXIlBYVbb5AwfTg     4.0     4.122807\n",
            "4615  1WEHUvZ2Qqlc46_qHsOOFA  -0TffRSXXIlBYVbb5AwfTg     4.0     3.700000\n",
            "4616  AL8skNhqUPtyBUNYDyOxfQ  -0TffRSXXIlBYVbb5AwfTg     5.0     3.250000\n",
            "4617  MfuE21un_E9mPO3UG26PoQ  -0TffRSXXIlBYVbb5AwfTg     5.0     4.428571\n",
            "4618  UNCzpD2SIDOPO92MLvvkqA  -0TffRSXXIlBYVbb5AwfTg     5.0     4.000000\n",
            "4619  aMgWizGnIJIxx6MkfbbduA  -0TffRSXXIlBYVbb5AwfTg     3.0     3.380952\n",
            "4620  rOf1Y62zS2-YFXAp6Okzzw  -0TffRSXXIlBYVbb5AwfTg     5.0     4.235294\n",
            "4621  7ggpCbqWgb6rvPW0r-fkRg  -0TffRSXXIlBYVbb5AwfTg     5.0     3.384615\n",
            "4622  tRNXppRgOLi-lgeO0bEVEA  -0TffRSXXIlBYVbb5AwfTg     1.0     2.333333\n",
            "4623  -z53iUp2AtKf5In8sWOCyA  -0TffRSXXIlBYVbb5AwfTg     5.0     3.846154\n",
            "4624  B0vKRFmLlEJLg_CjW29kvA  -0TffRSXXIlBYVbb5AwfTg     4.0     4.666667\n",
            "4625  jMKcvtQn8RVSyXSt2G2iAw  -0TffRSXXIlBYVbb5AwfTg     4.0     4.000000\n",
            "4626  X6sWEV0Wma8b1troQAI4Ww  -0TffRSXXIlBYVbb5AwfTg     5.0     4.382353\n",
            "4627  Zxw5DLH8KNHyY5SnxqPABw  -0TffRSXXIlBYVbb5AwfTg     5.0     4.666667\n",
            "4628  0hAfwMOHkaSlCKZFgWv9Rg  -0TffRSXXIlBYVbb5AwfTg     5.0     3.888889\n",
            "4629  Vj3AO9BrjVuFCwqoNFbeQw  -0TffRSXXIlBYVbb5AwfTg     4.0     3.666667\n",
            "4630  VFCTRKrTUE8zGAiw4rXaaQ  -0TffRSXXIlBYVbb5AwfTg     5.0     4.625000\n",
            "4631  GVGLytTurADjbOR-kge7vw  -0TffRSXXIlBYVbb5AwfTg     4.0     3.190476\n",
            "4632  fJubB-0S4cWlROAsW-31ag  -0TffRSXXIlBYVbb5AwfTg     5.0     4.750000\n",
            "4633  o7a1GtWWNrD1jHmBm3fLVQ  -0TffRSXXIlBYVbb5AwfTg     5.0     4.200000\n",
            "4634  BsxrsruqwPXLe0CaiieVlw  -0TffRSXXIlBYVbb5AwfTg     3.0     3.333333 \n",
            "\n",
            "\n"
          ]
        }
      ]
    },
    {
      "cell_type": "code",
      "execution_count": 84,
      "metadata": {
        "id": "6h5DHOGLDX39",
        "colab": {
          "base_uri": "https://localhost:8080/",
          "height": 206
        },
        "outputId": "ec804f99-8c7a-4500-f9ec-3882f3f0bff5"
      },
      "outputs": [
        {
          "output_type": "execute_result",
          "data": {
            "text/plain": [
              "                  user_id             business_id  rating  pred_rating\n",
              "0  1WHRWwQmZOZDAhp2Qyny4g  uZsStnH9w2xY15og9VsQZA     4.0     4.000000\n",
              "1  rSP3VqKJ0vgisqe6BN7yFA  uZsStnH9w2xY15og9VsQZA     5.0     4.000000\n",
              "2  elTQdVdXjiCck3CXbxJj6Q  uZsStnH9w2xY15og9VsQZA     2.0     4.500000\n",
              "3  9ceS27E9iY62R9d3lHZN5g  uZsStnH9w2xY15og9VsQZA     2.0     3.473684\n",
              "4  Zxuhm2MkbvxDhhvaY0IzZg  uZsStnH9w2xY15og9VsQZA     2.0     4.166667"
            ],
            "text/html": [
              "\n",
              "  <div id=\"df-4c341f14-406e-430f-96dc-8f3433c6ce72\">\n",
              "    <div class=\"colab-df-container\">\n",
              "      <div>\n",
              "<style scoped>\n",
              "    .dataframe tbody tr th:only-of-type {\n",
              "        vertical-align: middle;\n",
              "    }\n",
              "\n",
              "    .dataframe tbody tr th {\n",
              "        vertical-align: top;\n",
              "    }\n",
              "\n",
              "    .dataframe thead th {\n",
              "        text-align: right;\n",
              "    }\n",
              "</style>\n",
              "<table border=\"1\" class=\"dataframe\">\n",
              "  <thead>\n",
              "    <tr style=\"text-align: right;\">\n",
              "      <th></th>\n",
              "      <th>user_id</th>\n",
              "      <th>business_id</th>\n",
              "      <th>rating</th>\n",
              "      <th>pred_rating</th>\n",
              "    </tr>\n",
              "  </thead>\n",
              "  <tbody>\n",
              "    <tr>\n",
              "      <th>0</th>\n",
              "      <td>1WHRWwQmZOZDAhp2Qyny4g</td>\n",
              "      <td>uZsStnH9w2xY15og9VsQZA</td>\n",
              "      <td>4.0</td>\n",
              "      <td>4.000000</td>\n",
              "    </tr>\n",
              "    <tr>\n",
              "      <th>1</th>\n",
              "      <td>rSP3VqKJ0vgisqe6BN7yFA</td>\n",
              "      <td>uZsStnH9w2xY15og9VsQZA</td>\n",
              "      <td>5.0</td>\n",
              "      <td>4.000000</td>\n",
              "    </tr>\n",
              "    <tr>\n",
              "      <th>2</th>\n",
              "      <td>elTQdVdXjiCck3CXbxJj6Q</td>\n",
              "      <td>uZsStnH9w2xY15og9VsQZA</td>\n",
              "      <td>2.0</td>\n",
              "      <td>4.500000</td>\n",
              "    </tr>\n",
              "    <tr>\n",
              "      <th>3</th>\n",
              "      <td>9ceS27E9iY62R9d3lHZN5g</td>\n",
              "      <td>uZsStnH9w2xY15og9VsQZA</td>\n",
              "      <td>2.0</td>\n",
              "      <td>3.473684</td>\n",
              "    </tr>\n",
              "    <tr>\n",
              "      <th>4</th>\n",
              "      <td>Zxuhm2MkbvxDhhvaY0IzZg</td>\n",
              "      <td>uZsStnH9w2xY15og9VsQZA</td>\n",
              "      <td>2.0</td>\n",
              "      <td>4.166667</td>\n",
              "    </tr>\n",
              "  </tbody>\n",
              "</table>\n",
              "</div>\n",
              "      <button class=\"colab-df-convert\" onclick=\"convertToInteractive('df-4c341f14-406e-430f-96dc-8f3433c6ce72')\"\n",
              "              title=\"Convert this dataframe to an interactive table.\"\n",
              "              style=\"display:none;\">\n",
              "        \n",
              "  <svg xmlns=\"http://www.w3.org/2000/svg\" height=\"24px\"viewBox=\"0 0 24 24\"\n",
              "       width=\"24px\">\n",
              "    <path d=\"M0 0h24v24H0V0z\" fill=\"none\"/>\n",
              "    <path d=\"M18.56 5.44l.94 2.06.94-2.06 2.06-.94-2.06-.94-.94-2.06-.94 2.06-2.06.94zm-11 1L8.5 8.5l.94-2.06 2.06-.94-2.06-.94L8.5 2.5l-.94 2.06-2.06.94zm10 10l.94 2.06.94-2.06 2.06-.94-2.06-.94-.94-2.06-.94 2.06-2.06.94z\"/><path d=\"M17.41 7.96l-1.37-1.37c-.4-.4-.92-.59-1.43-.59-.52 0-1.04.2-1.43.59L10.3 9.45l-7.72 7.72c-.78.78-.78 2.05 0 2.83L4 21.41c.39.39.9.59 1.41.59.51 0 1.02-.2 1.41-.59l7.78-7.78 2.81-2.81c.8-.78.8-2.07 0-2.86zM5.41 20L4 18.59l7.72-7.72 1.47 1.35L5.41 20z\"/>\n",
              "  </svg>\n",
              "      </button>\n",
              "      \n",
              "  <style>\n",
              "    .colab-df-container {\n",
              "      display:flex;\n",
              "      flex-wrap:wrap;\n",
              "      gap: 12px;\n",
              "    }\n",
              "\n",
              "    .colab-df-convert {\n",
              "      background-color: #E8F0FE;\n",
              "      border: none;\n",
              "      border-radius: 50%;\n",
              "      cursor: pointer;\n",
              "      display: none;\n",
              "      fill: #1967D2;\n",
              "      height: 32px;\n",
              "      padding: 0 0 0 0;\n",
              "      width: 32px;\n",
              "    }\n",
              "\n",
              "    .colab-df-convert:hover {\n",
              "      background-color: #E2EBFA;\n",
              "      box-shadow: 0px 1px 2px rgba(60, 64, 67, 0.3), 0px 1px 3px 1px rgba(60, 64, 67, 0.15);\n",
              "      fill: #174EA6;\n",
              "    }\n",
              "\n",
              "    [theme=dark] .colab-df-convert {\n",
              "      background-color: #3B4455;\n",
              "      fill: #D2E3FC;\n",
              "    }\n",
              "\n",
              "    [theme=dark] .colab-df-convert:hover {\n",
              "      background-color: #434B5C;\n",
              "      box-shadow: 0px 1px 3px 1px rgba(0, 0, 0, 0.15);\n",
              "      filter: drop-shadow(0px 1px 2px rgba(0, 0, 0, 0.3));\n",
              "      fill: #FFFFFF;\n",
              "    }\n",
              "  </style>\n",
              "\n",
              "      <script>\n",
              "        const buttonEl =\n",
              "          document.querySelector('#df-4c341f14-406e-430f-96dc-8f3433c6ce72 button.colab-df-convert');\n",
              "        buttonEl.style.display =\n",
              "          google.colab.kernel.accessAllowed ? 'block' : 'none';\n",
              "\n",
              "        async function convertToInteractive(key) {\n",
              "          const element = document.querySelector('#df-4c341f14-406e-430f-96dc-8f3433c6ce72');\n",
              "          const dataTable =\n",
              "            await google.colab.kernel.invokeFunction('convertToInteractive',\n",
              "                                                     [key], {});\n",
              "          if (!dataTable) return;\n",
              "\n",
              "          const docLinkHtml = 'Like what you see? Visit the ' +\n",
              "            '<a target=\"_blank\" href=https://colab.research.google.com/notebooks/data_table.ipynb>data table notebook</a>'\n",
              "            + ' to learn more about interactive tables.';\n",
              "          element.innerHTML = '';\n",
              "          dataTable['output_type'] = 'display_data';\n",
              "          await google.colab.output.renderOutput(dataTable, element);\n",
              "          const docLink = document.createElement('div');\n",
              "          docLink.innerHTML = docLinkHtml;\n",
              "          element.appendChild(docLink);\n",
              "        }\n",
              "      </script>\n",
              "    </div>\n",
              "  </div>\n",
              "  "
            ]
          },
          "metadata": {},
          "execution_count": 84
        }
      ],
      "source": [
        "predict_df_1.head()"
      ]
    },
    {
      "cell_type": "code",
      "execution_count": 85,
      "metadata": {
        "id": "9mHcXWqVDatC",
        "colab": {
          "base_uri": "https://localhost:8080/"
        },
        "outputId": "fa723e4d-a10a-46e9-9975-e8b3b8441b6d"
      },
      "outputs": [
        {
          "output_type": "execute_result",
          "data": {
            "text/plain": [
              "(53571, 4)"
            ]
          },
          "metadata": {},
          "execution_count": 85
        }
      ],
      "source": [
        "predict_df_1.shape"
      ]
    },
    {
      "cell_type": "code",
      "execution_count": 120,
      "metadata": {
        "id": "dGAKsntxDqvI",
        "colab": {
          "base_uri": "https://localhost:8080/"
        },
        "outputId": "483aeebb-1c56-4165-b756-3f8b2df4c428"
      },
      "outputs": [
        {
          "output_type": "execute_result",
          "data": {
            "text/plain": [
              "(18761, 4)"
            ]
          },
          "metadata": {},
          "execution_count": 120
        }
      ],
      "source": [
        "# Remove rows without predictions\n",
        "predict_df_1_NA_removed = predict_df_1.loc[~predict_df_1.pred_rating.isnull(), :]\n",
        "predict_df_1_NA_removed = predict_df_1_NA_removed.loc[predict_df_1.pred_rating != -2.0, :]\n",
        "predict_df_1_NA_removed.shape"
      ]
    },
    {
      "cell_type": "code",
      "execution_count": 121,
      "metadata": {
        "id": "orJux4DCDdhM"
      },
      "outputs": [],
      "source": [
        "from sklearn.metrics import r2_score, mean_squared_error, mean_absolute_error"
      ]
    },
    {
      "cell_type": "code",
      "execution_count": 122,
      "metadata": {
        "id": "qLAN7AyaDgv6",
        "colab": {
          "base_uri": "https://localhost:8080/"
        },
        "outputId": "5d01f1a4-7662-41d3-9e0e-84b960a98f56"
      },
      "outputs": [
        {
          "output_type": "stream",
          "name": "stdout",
          "text": [
            "MSE: 1.3928, MAE: 0.9072, R2: -0.0432\n"
          ]
        }
      ],
      "source": [
        "mse, mae, r2 = mean_squared_error(predict_df_1_NA_removed.rating, predict_df_1_NA_removed.pred_rating), \\\n",
        "                mean_absolute_error(predict_df_1_NA_removed.rating, predict_df_1_NA_removed.pred_rating), \\\n",
        "                r2_score(predict_df_1_NA_removed.rating, predict_df_1_NA_removed.pred_rating)\n",
        "print('MSE: {0:.4f}, MAE: {1:.4f}, R2: {2:.4f}'.format(mse, mae, r2))"
      ]
    },
    {
      "cell_type": "code",
      "execution_count": 134,
      "metadata": {
        "colab": {
          "base_uri": "https://localhost:8080/"
        },
        "id": "VDeREpV_aTqR",
        "outputId": "5b75c3bc-e393-4006-923f-c3e1d13c7c68"
      },
      "outputs": [
        {
          "output_type": "execute_result",
          "data": {
            "text/plain": [
              "SpearmanrResult(correlation=0.25943198490751734, pvalue=3.3436221018185437e-286)"
            ]
          },
          "metadata": {},
          "execution_count": 134
        }
      ],
      "source": [
        "test_ranks = pd.Series(predict_df_1_NA_removed.rating).rank()\n",
        "pred_ranks = pd.Series(predict_df_1_NA_removed.pred_rating).rank()\n",
        "stats.spearmanr(test_ranks, pred_ranks)"
      ]
    },
    {
      "cell_type": "markdown",
      "metadata": {
        "id": "zG8vqNrWEn3y"
      },
      "source": [
        "## Combining"
      ]
    },
    {
      "cell_type": "code",
      "execution_count": 148,
      "metadata": {
        "id": "UH_CkKuQW4Ru"
      },
      "outputs": [],
      "source": [
        "from dataclasses import make_dataclass\n",
        "content_preds = predict_df_1_NA_removed.rename(columns={'user_id': 'uid', 'business_id': 'iid'})\n",
        "svd_preds = pd.DataFrame(predictions)\n",
        "svd_preds.rename(columns={'r_ui': 'rating', 'est': 'pred_rating'}, inplace=True)\n",
        "svd_preds = svd_preds.drop(columns = ['details'])"
      ]
    },
    {
      "cell_type": "code",
      "execution_count": 149,
      "metadata": {
        "colab": {
          "base_uri": "https://localhost:8080/",
          "height": 467
        },
        "id": "dHterdiIYwsw",
        "outputId": "456fb917-8434-4c1a-e66d-9037d2f555c4"
      },
      "outputs": [
        {
          "output_type": "execute_result",
          "data": {
            "text/plain": [
              "                        uid                     iid  rating_x  pred_rating_x  \\\n",
              "0    58zhqwfGYEl92MZusTsYJg  SZU9c8V2GuREDN5KgyHFJw       2.0       4.297518   \n",
              "1    4fTm8qhzNnSXYHugs-Jcrw  vUrTGX_7HxqeoQ_6QCVz6g       5.0       4.278688   \n",
              "2    hmGY34f5S0KS27zj8Rz7nA  ctHjyadbDQAtUFfkcAFEHw       1.0       4.657065   \n",
              "3    hGuuVj6eXy7Ats7W30GXqQ  GBTPC53ZrG1ZBY3DT8Mbcw       5.0       4.139218   \n",
              "4    79i68GqE7NY8eP2LVQWJBg  ARgidflSXPHj7uhK-Y7hwA       3.0       3.568686   \n",
              "..                      ...                     ...       ...            ...   \n",
              "236  zziWJMYwDjyVi7kJmgRUvg  LjXS6sgzY6-kX2WKPykx_A       2.0       3.899801   \n",
              "237  yTYd4z4MjwOZVQpw71aT0Q  ZYRul0i1bhOjirHED6Kd0w       4.0       4.039587   \n",
              "238  7F_TQTRhsw-_uPAWLreT5A  L5uxkYPKhTl2YzL0rkpN6Q       5.0       3.781982   \n",
              "239  33uE6gRoelXAQCw9onVO0g  ZaW1E3Eeic8P0ZIOITBY7w       5.0       3.146123   \n",
              "240  ryJmCUm27DUJXjdn8DSYfg  WYDUHaSrkAvj1fjoFOgivw       5.0       4.365989   \n",
              "\n",
              "     rating_y  pred_rating_y  \n",
              "0         5.0       4.470588  \n",
              "1         3.0       3.714286  \n",
              "2         2.0       4.750000  \n",
              "3         5.0       4.000000  \n",
              "4         3.0       3.133333  \n",
              "..        ...            ...  \n",
              "236       4.0       4.250000  \n",
              "237       3.0       4.000000  \n",
              "238       5.0       4.000000  \n",
              "239       2.0       3.125000  \n",
              "240       5.0       5.000000  \n",
              "\n",
              "[241 rows x 6 columns]"
            ],
            "text/html": [
              "\n",
              "  <div id=\"df-780e21d2-d4f4-4144-b953-8f3cbcf5e130\">\n",
              "    <div class=\"colab-df-container\">\n",
              "      <div>\n",
              "<style scoped>\n",
              "    .dataframe tbody tr th:only-of-type {\n",
              "        vertical-align: middle;\n",
              "    }\n",
              "\n",
              "    .dataframe tbody tr th {\n",
              "        vertical-align: top;\n",
              "    }\n",
              "\n",
              "    .dataframe thead th {\n",
              "        text-align: right;\n",
              "    }\n",
              "</style>\n",
              "<table border=\"1\" class=\"dataframe\">\n",
              "  <thead>\n",
              "    <tr style=\"text-align: right;\">\n",
              "      <th></th>\n",
              "      <th>uid</th>\n",
              "      <th>iid</th>\n",
              "      <th>rating_x</th>\n",
              "      <th>pred_rating_x</th>\n",
              "      <th>rating_y</th>\n",
              "      <th>pred_rating_y</th>\n",
              "    </tr>\n",
              "  </thead>\n",
              "  <tbody>\n",
              "    <tr>\n",
              "      <th>0</th>\n",
              "      <td>58zhqwfGYEl92MZusTsYJg</td>\n",
              "      <td>SZU9c8V2GuREDN5KgyHFJw</td>\n",
              "      <td>2.0</td>\n",
              "      <td>4.297518</td>\n",
              "      <td>5.0</td>\n",
              "      <td>4.470588</td>\n",
              "    </tr>\n",
              "    <tr>\n",
              "      <th>1</th>\n",
              "      <td>4fTm8qhzNnSXYHugs-Jcrw</td>\n",
              "      <td>vUrTGX_7HxqeoQ_6QCVz6g</td>\n",
              "      <td>5.0</td>\n",
              "      <td>4.278688</td>\n",
              "      <td>3.0</td>\n",
              "      <td>3.714286</td>\n",
              "    </tr>\n",
              "    <tr>\n",
              "      <th>2</th>\n",
              "      <td>hmGY34f5S0KS27zj8Rz7nA</td>\n",
              "      <td>ctHjyadbDQAtUFfkcAFEHw</td>\n",
              "      <td>1.0</td>\n",
              "      <td>4.657065</td>\n",
              "      <td>2.0</td>\n",
              "      <td>4.750000</td>\n",
              "    </tr>\n",
              "    <tr>\n",
              "      <th>3</th>\n",
              "      <td>hGuuVj6eXy7Ats7W30GXqQ</td>\n",
              "      <td>GBTPC53ZrG1ZBY3DT8Mbcw</td>\n",
              "      <td>5.0</td>\n",
              "      <td>4.139218</td>\n",
              "      <td>5.0</td>\n",
              "      <td>4.000000</td>\n",
              "    </tr>\n",
              "    <tr>\n",
              "      <th>4</th>\n",
              "      <td>79i68GqE7NY8eP2LVQWJBg</td>\n",
              "      <td>ARgidflSXPHj7uhK-Y7hwA</td>\n",
              "      <td>3.0</td>\n",
              "      <td>3.568686</td>\n",
              "      <td>3.0</td>\n",
              "      <td>3.133333</td>\n",
              "    </tr>\n",
              "    <tr>\n",
              "      <th>...</th>\n",
              "      <td>...</td>\n",
              "      <td>...</td>\n",
              "      <td>...</td>\n",
              "      <td>...</td>\n",
              "      <td>...</td>\n",
              "      <td>...</td>\n",
              "    </tr>\n",
              "    <tr>\n",
              "      <th>236</th>\n",
              "      <td>zziWJMYwDjyVi7kJmgRUvg</td>\n",
              "      <td>LjXS6sgzY6-kX2WKPykx_A</td>\n",
              "      <td>2.0</td>\n",
              "      <td>3.899801</td>\n",
              "      <td>4.0</td>\n",
              "      <td>4.250000</td>\n",
              "    </tr>\n",
              "    <tr>\n",
              "      <th>237</th>\n",
              "      <td>yTYd4z4MjwOZVQpw71aT0Q</td>\n",
              "      <td>ZYRul0i1bhOjirHED6Kd0w</td>\n",
              "      <td>4.0</td>\n",
              "      <td>4.039587</td>\n",
              "      <td>3.0</td>\n",
              "      <td>4.000000</td>\n",
              "    </tr>\n",
              "    <tr>\n",
              "      <th>238</th>\n",
              "      <td>7F_TQTRhsw-_uPAWLreT5A</td>\n",
              "      <td>L5uxkYPKhTl2YzL0rkpN6Q</td>\n",
              "      <td>5.0</td>\n",
              "      <td>3.781982</td>\n",
              "      <td>5.0</td>\n",
              "      <td>4.000000</td>\n",
              "    </tr>\n",
              "    <tr>\n",
              "      <th>239</th>\n",
              "      <td>33uE6gRoelXAQCw9onVO0g</td>\n",
              "      <td>ZaW1E3Eeic8P0ZIOITBY7w</td>\n",
              "      <td>5.0</td>\n",
              "      <td>3.146123</td>\n",
              "      <td>2.0</td>\n",
              "      <td>3.125000</td>\n",
              "    </tr>\n",
              "    <tr>\n",
              "      <th>240</th>\n",
              "      <td>ryJmCUm27DUJXjdn8DSYfg</td>\n",
              "      <td>WYDUHaSrkAvj1fjoFOgivw</td>\n",
              "      <td>5.0</td>\n",
              "      <td>4.365989</td>\n",
              "      <td>5.0</td>\n",
              "      <td>5.000000</td>\n",
              "    </tr>\n",
              "  </tbody>\n",
              "</table>\n",
              "<p>241 rows × 6 columns</p>\n",
              "</div>\n",
              "      <button class=\"colab-df-convert\" onclick=\"convertToInteractive('df-780e21d2-d4f4-4144-b953-8f3cbcf5e130')\"\n",
              "              title=\"Convert this dataframe to an interactive table.\"\n",
              "              style=\"display:none;\">\n",
              "        \n",
              "  <svg xmlns=\"http://www.w3.org/2000/svg\" height=\"24px\"viewBox=\"0 0 24 24\"\n",
              "       width=\"24px\">\n",
              "    <path d=\"M0 0h24v24H0V0z\" fill=\"none\"/>\n",
              "    <path d=\"M18.56 5.44l.94 2.06.94-2.06 2.06-.94-2.06-.94-.94-2.06-.94 2.06-2.06.94zm-11 1L8.5 8.5l.94-2.06 2.06-.94-2.06-.94L8.5 2.5l-.94 2.06-2.06.94zm10 10l.94 2.06.94-2.06 2.06-.94-2.06-.94-.94-2.06-.94 2.06-2.06.94z\"/><path d=\"M17.41 7.96l-1.37-1.37c-.4-.4-.92-.59-1.43-.59-.52 0-1.04.2-1.43.59L10.3 9.45l-7.72 7.72c-.78.78-.78 2.05 0 2.83L4 21.41c.39.39.9.59 1.41.59.51 0 1.02-.2 1.41-.59l7.78-7.78 2.81-2.81c.8-.78.8-2.07 0-2.86zM5.41 20L4 18.59l7.72-7.72 1.47 1.35L5.41 20z\"/>\n",
              "  </svg>\n",
              "      </button>\n",
              "      \n",
              "  <style>\n",
              "    .colab-df-container {\n",
              "      display:flex;\n",
              "      flex-wrap:wrap;\n",
              "      gap: 12px;\n",
              "    }\n",
              "\n",
              "    .colab-df-convert {\n",
              "      background-color: #E8F0FE;\n",
              "      border: none;\n",
              "      border-radius: 50%;\n",
              "      cursor: pointer;\n",
              "      display: none;\n",
              "      fill: #1967D2;\n",
              "      height: 32px;\n",
              "      padding: 0 0 0 0;\n",
              "      width: 32px;\n",
              "    }\n",
              "\n",
              "    .colab-df-convert:hover {\n",
              "      background-color: #E2EBFA;\n",
              "      box-shadow: 0px 1px 2px rgba(60, 64, 67, 0.3), 0px 1px 3px 1px rgba(60, 64, 67, 0.15);\n",
              "      fill: #174EA6;\n",
              "    }\n",
              "\n",
              "    [theme=dark] .colab-df-convert {\n",
              "      background-color: #3B4455;\n",
              "      fill: #D2E3FC;\n",
              "    }\n",
              "\n",
              "    [theme=dark] .colab-df-convert:hover {\n",
              "      background-color: #434B5C;\n",
              "      box-shadow: 0px 1px 3px 1px rgba(0, 0, 0, 0.15);\n",
              "      filter: drop-shadow(0px 1px 2px rgba(0, 0, 0, 0.3));\n",
              "      fill: #FFFFFF;\n",
              "    }\n",
              "  </style>\n",
              "\n",
              "      <script>\n",
              "        const buttonEl =\n",
              "          document.querySelector('#df-780e21d2-d4f4-4144-b953-8f3cbcf5e130 button.colab-df-convert');\n",
              "        buttonEl.style.display =\n",
              "          google.colab.kernel.accessAllowed ? 'block' : 'none';\n",
              "\n",
              "        async function convertToInteractive(key) {\n",
              "          const element = document.querySelector('#df-780e21d2-d4f4-4144-b953-8f3cbcf5e130');\n",
              "          const dataTable =\n",
              "            await google.colab.kernel.invokeFunction('convertToInteractive',\n",
              "                                                     [key], {});\n",
              "          if (!dataTable) return;\n",
              "\n",
              "          const docLinkHtml = 'Like what you see? Visit the ' +\n",
              "            '<a target=\"_blank\" href=https://colab.research.google.com/notebooks/data_table.ipynb>data table notebook</a>'\n",
              "            + ' to learn more about interactive tables.';\n",
              "          element.innerHTML = '';\n",
              "          dataTable['output_type'] = 'display_data';\n",
              "          await google.colab.output.renderOutput(dataTable, element);\n",
              "          const docLink = document.createElement('div');\n",
              "          docLink.innerHTML = docLinkHtml;\n",
              "          element.appendChild(docLink);\n",
              "        }\n",
              "      </script>\n",
              "    </div>\n",
              "  </div>\n",
              "  "
            ]
          },
          "metadata": {},
          "execution_count": 149
        }
      ],
      "source": [
        "hybrid = pd.merge(svd_preds, content_preds, how ='inner', on =['uid', 'iid'])\n",
        "hybrid"
      ]
    },
    {
      "cell_type": "code",
      "source": [
        "plt.ylim([0,5.1])\n",
        "plt.xlim([0,5.1])\n",
        "plt.scatter(hybrid[\"pred_rating_x\"], hybrid[\"pred_rating_y\"])\n",
        "plt.title(\"Content Collaborative Correlation\")\n",
        "plt.xlabel(\"Collaborative Predictions\")\n",
        "plt.ylabel(\"Content Predictions\")"
      ],
      "metadata": {
        "colab": {
          "base_uri": "https://localhost:8080/",
          "height": 313
        },
        "id": "HfJV72sRYCcE",
        "outputId": "b48a1b46-9e34-4a1b-f950-3f3aaeed6487"
      },
      "execution_count": 152,
      "outputs": [
        {
          "output_type": "execute_result",
          "data": {
            "text/plain": [
              "Text(0, 0.5, 'Content Predictions')"
            ]
          },
          "metadata": {},
          "execution_count": 152
        },
        {
          "output_type": "display_data",
          "data": {
            "text/plain": [
              "<Figure size 432x288 with 1 Axes>"
            ],
            "image/png": "[encoded data removed]"
          },
          "metadata": {
            "needs_background": "light"
          }
        }
      ]
    },
    {
      "cell_type": "code",
      "execution_count": 131,
      "metadata": {
        "colab": {
          "base_uri": "https://localhost:8080/",
          "height": 423
        },
        "id": "zOcHkGY0aXW8",
        "outputId": "37af8cb7-ea55-43ab-da49-7d7d29e64fbf"
      },
      "outputs": [
        {
          "output_type": "execute_result",
          "data": {
            "text/plain": [
              "                        uid                     iid  rating_actual  \\\n",
              "0    58zhqwfGYEl92MZusTsYJg  SZU9c8V2GuREDN5KgyHFJw            3.5   \n",
              "1    4fTm8qhzNnSXYHugs-Jcrw  vUrTGX_7HxqeoQ_6QCVz6g            4.0   \n",
              "2    hmGY34f5S0KS27zj8Rz7nA  ctHjyadbDQAtUFfkcAFEHw            1.5   \n",
              "3    hGuuVj6eXy7Ats7W30GXqQ  GBTPC53ZrG1ZBY3DT8Mbcw            5.0   \n",
              "4    79i68GqE7NY8eP2LVQWJBg  ARgidflSXPHj7uhK-Y7hwA            3.0   \n",
              "..                      ...                     ...            ...   \n",
              "236  zziWJMYwDjyVi7kJmgRUvg  LjXS6sgzY6-kX2WKPykx_A            3.0   \n",
              "237  yTYd4z4MjwOZVQpw71aT0Q  ZYRul0i1bhOjirHED6Kd0w            3.5   \n",
              "238  7F_TQTRhsw-_uPAWLreT5A  L5uxkYPKhTl2YzL0rkpN6Q            5.0   \n",
              "239  33uE6gRoelXAQCw9onVO0g  ZaW1E3Eeic8P0ZIOITBY7w            3.5   \n",
              "240  ryJmCUm27DUJXjdn8DSYfg  WYDUHaSrkAvj1fjoFOgivw            5.0   \n",
              "\n",
              "     rating_pred  \n",
              "0       4.384053  \n",
              "1       3.996487  \n",
              "2       4.703532  \n",
              "3       4.069609  \n",
              "4       3.351010  \n",
              "..           ...  \n",
              "236     4.074900  \n",
              "237     4.019794  \n",
              "238     3.890991  \n",
              "239     3.135561  \n",
              "240     4.682995  \n",
              "\n",
              "[241 rows x 4 columns]"
            ],
            "text/html": [
              "\n",
              "  <div id=\"df-bb716b59-00ec-4d87-82aa-bbb9993abe3f\">\n",
              "    <div class=\"colab-df-container\">\n",
              "      <div>\n",
              "<style scoped>\n",
              "    .dataframe tbody tr th:only-of-type {\n",
              "        vertical-align: middle;\n",
              "    }\n",
              "\n",
              "    .dataframe tbody tr th {\n",
              "        vertical-align: top;\n",
              "    }\n",
              "\n",
              "    .dataframe thead th {\n",
              "        text-align: right;\n",
              "    }\n",
              "</style>\n",
              "<table border=\"1\" class=\"dataframe\">\n",
              "  <thead>\n",
              "    <tr style=\"text-align: right;\">\n",
              "      <th></th>\n",
              "      <th>uid</th>\n",
              "      <th>iid</th>\n",
              "      <th>rating_actual</th>\n",
              "      <th>rating_pred</th>\n",
              "    </tr>\n",
              "  </thead>\n",
              "  <tbody>\n",
              "    <tr>\n",
              "      <th>0</th>\n",
              "      <td>58zhqwfGYEl92MZusTsYJg</td>\n",
              "      <td>SZU9c8V2GuREDN5KgyHFJw</td>\n",
              "      <td>3.5</td>\n",
              "      <td>4.384053</td>\n",
              "    </tr>\n",
              "    <tr>\n",
              "      <th>1</th>\n",
              "      <td>4fTm8qhzNnSXYHugs-Jcrw</td>\n",
              "      <td>vUrTGX_7HxqeoQ_6QCVz6g</td>\n",
              "      <td>4.0</td>\n",
              "      <td>3.996487</td>\n",
              "    </tr>\n",
              "    <tr>\n",
              "      <th>2</th>\n",
              "      <td>hmGY34f5S0KS27zj8Rz7nA</td>\n",
              "      <td>ctHjyadbDQAtUFfkcAFEHw</td>\n",
              "      <td>1.5</td>\n",
              "      <td>4.703532</td>\n",
              "    </tr>\n",
              "    <tr>\n",
              "      <th>3</th>\n",
              "      <td>hGuuVj6eXy7Ats7W30GXqQ</td>\n",
              "      <td>GBTPC53ZrG1ZBY3DT8Mbcw</td>\n",
              "      <td>5.0</td>\n",
              "      <td>4.069609</td>\n",
              "    </tr>\n",
              "    <tr>\n",
              "      <th>4</th>\n",
              "      <td>79i68GqE7NY8eP2LVQWJBg</td>\n",
              "      <td>ARgidflSXPHj7uhK-Y7hwA</td>\n",
              "      <td>3.0</td>\n",
              "      <td>3.351010</td>\n",
              "    </tr>\n",
              "    <tr>\n",
              "      <th>...</th>\n",
              "      <td>...</td>\n",
              "      <td>...</td>\n",
              "      <td>...</td>\n",
              "      <td>...</td>\n",
              "    </tr>\n",
              "    <tr>\n",
              "      <th>236</th>\n",
              "      <td>zziWJMYwDjyVi7kJmgRUvg</td>\n",
              "      <td>LjXS6sgzY6-kX2WKPykx_A</td>\n",
              "      <td>3.0</td>\n",
              "      <td>4.074900</td>\n",
              "    </tr>\n",
              "    <tr>\n",
              "      <th>237</th>\n",
              "      <td>yTYd4z4MjwOZVQpw71aT0Q</td>\n",
              "      <td>ZYRul0i1bhOjirHED6Kd0w</td>\n",
              "      <td>3.5</td>\n",
              "      <td>4.019794</td>\n",
              "    </tr>\n",
              "    <tr>\n",
              "      <th>238</th>\n",
              "      <td>7F_TQTRhsw-_uPAWLreT5A</td>\n",
              "      <td>L5uxkYPKhTl2YzL0rkpN6Q</td>\n",
              "      <td>5.0</td>\n",
              "      <td>3.890991</td>\n",
              "    </tr>\n",
              "    <tr>\n",
              "      <th>239</th>\n",
              "      <td>33uE6gRoelXAQCw9onVO0g</td>\n",
              "      <td>ZaW1E3Eeic8P0ZIOITBY7w</td>\n",
              "      <td>3.5</td>\n",
              "      <td>3.135561</td>\n",
              "    </tr>\n",
              "    <tr>\n",
              "      <th>240</th>\n",
              "      <td>ryJmCUm27DUJXjdn8DSYfg</td>\n",
              "      <td>WYDUHaSrkAvj1fjoFOgivw</td>\n",
              "      <td>5.0</td>\n",
              "      <td>4.682995</td>\n",
              "    </tr>\n",
              "  </tbody>\n",
              "</table>\n",
              "<p>241 rows × 4 columns</p>\n",
              "</div>\n",
              "      <button class=\"colab-df-convert\" onclick=\"convertToInteractive('df-bb716b59-00ec-4d87-82aa-bbb9993abe3f')\"\n",
              "              title=\"Convert this dataframe to an interactive table.\"\n",
              "              style=\"display:none;\">\n",
              "        \n",
              "  <svg xmlns=\"http://www.w3.org/2000/svg\" height=\"24px\"viewBox=\"0 0 24 24\"\n",
              "       width=\"24px\">\n",
              "    <path d=\"M0 0h24v24H0V0z\" fill=\"none\"/>\n",
              "    <path d=\"M18.56 5.44l.94 2.06.94-2.06 2.06-.94-2.06-.94-.94-2.06-.94 2.06-2.06.94zm-11 1L8.5 8.5l.94-2.06 2.06-.94-2.06-.94L8.5 2.5l-.94 2.06-2.06.94zm10 10l.94 2.06.94-2.06 2.06-.94-2.06-.94-.94-2.06-.94 2.06-2.06.94z\"/><path d=\"M17.41 7.96l-1.37-1.37c-.4-.4-.92-.59-1.43-.59-.52 0-1.04.2-1.43.59L10.3 9.45l-7.72 7.72c-.78.78-.78 2.05 0 2.83L4 21.41c.39.39.9.59 1.41.59.51 0 1.02-.2 1.41-.59l7.78-7.78 2.81-2.81c.8-.78.8-2.07 0-2.86zM5.41 20L4 18.59l7.72-7.72 1.47 1.35L5.41 20z\"/>\n",
              "  </svg>\n",
              "      </button>\n",
              "      \n",
              "  <style>\n",
              "    .colab-df-container {\n",
              "      display:flex;\n",
              "      flex-wrap:wrap;\n",
              "      gap: 12px;\n",
              "    }\n",
              "\n",
              "    .colab-df-convert {\n",
              "      background-color: #E8F0FE;\n",
              "      border: none;\n",
              "      border-radius: 50%;\n",
              "      cursor: pointer;\n",
              "      display: none;\n",
              "      fill: #1967D2;\n",
              "      height: 32px;\n",
              "      padding: 0 0 0 0;\n",
              "      width: 32px;\n",
              "    }\n",
              "\n",
              "    .colab-df-convert:hover {\n",
              "      background-color: #E2EBFA;\n",
              "      box-shadow: 0px 1px 2px rgba(60, 64, 67, 0.3), 0px 1px 3px 1px rgba(60, 64, 67, 0.15);\n",
              "      fill: #174EA6;\n",
              "    }\n",
              "\n",
              "    [theme=dark] .colab-df-convert {\n",
              "      background-color: #3B4455;\n",
              "      fill: #D2E3FC;\n",
              "    }\n",
              "\n",
              "    [theme=dark] .colab-df-convert:hover {\n",
              "      background-color: #434B5C;\n",
              "      box-shadow: 0px 1px 3px 1px rgba(0, 0, 0, 0.15);\n",
              "      filter: drop-shadow(0px 1px 2px rgba(0, 0, 0, 0.3));\n",
              "      fill: #FFFFFF;\n",
              "    }\n",
              "  </style>\n",
              "\n",
              "      <script>\n",
              "        const buttonEl =\n",
              "          document.querySelector('#df-bb716b59-00ec-4d87-82aa-bbb9993abe3f button.colab-df-convert');\n",
              "        buttonEl.style.display =\n",
              "          google.colab.kernel.accessAllowed ? 'block' : 'none';\n",
              "\n",
              "        async function convertToInteractive(key) {\n",
              "          const element = document.querySelector('#df-bb716b59-00ec-4d87-82aa-bbb9993abe3f');\n",
              "          const dataTable =\n",
              "            await google.colab.kernel.invokeFunction('convertToInteractive',\n",
              "                                                     [key], {});\n",
              "          if (!dataTable) return;\n",
              "\n",
              "          const docLinkHtml = 'Like what you see? Visit the ' +\n",
              "            '<a target=\"_blank\" href=https://colab.research.google.com/notebooks/data_table.ipynb>data table notebook</a>'\n",
              "            + ' to learn more about interactive tables.';\n",
              "          element.innerHTML = '';\n",
              "          dataTable['output_type'] = 'display_data';\n",
              "          await google.colab.output.renderOutput(dataTable, element);\n",
              "          const docLink = document.createElement('div');\n",
              "          docLink.innerHTML = docLinkHtml;\n",
              "          element.appendChild(docLink);\n",
              "        }\n",
              "      </script>\n",
              "    </div>\n",
              "  </div>\n",
              "  "
            ]
          },
          "metadata": {},
          "execution_count": 131
        }
      ],
      "source": [
        "hybrid[\"rating_actual\"] = hybrid[[\"rating_x\", \"rating_y\"]].mean(axis=1)\n",
        "hybrid[\"rating_pred\"] = hybrid[[\"pred_rating_x\", \"pred_rating_y\"]].mean(axis=1)\n",
        "hybrid = hybrid.drop([\"rating_x\", \"rating_y\", \"pred_rating_x\", \"pred_rating_y\"], axis=1)\n",
        "hybrid"
      ]
    },
    {
      "cell_type": "code",
      "execution_count": 132,
      "metadata": {
        "colab": {
          "base_uri": "https://localhost:8080/"
        },
        "id": "0DM59oUYgCde",
        "outputId": "71e24301-c8b1-466f-fcb4-fa90b735052e"
      },
      "outputs": [
        {
          "output_type": "stream",
          "name": "stdout",
          "text": [
            "MSE: 1.2775, MAE: 0.9157, R2: 0.2464\n"
          ]
        }
      ],
      "source": [
        "mse, mae, r2 = mean_squared_error(hybrid.rating_actual, hybrid.rating_pred), \\\n",
        "                mean_absolute_error(hybrid.rating_actual, hybrid.rating_pred), \\\n",
        "                r2_score(hybrid.rating_actual, hybrid.rating_pred)\n",
        "print('MSE: {0:.4f}, MAE: {1:.4f}, R2: {2:.4f}'.format(mse, mae, r2))"
      ]
    },
    {
      "cell_type": "code",
      "execution_count": 133,
      "metadata": {
        "colab": {
          "base_uri": "https://localhost:8080/"
        },
        "id": "K8vqHaAzg2s2",
        "outputId": "f32a52c6-25d0-4e90-d6fd-af1fe1fdb0aa"
      },
      "outputs": [
        {
          "output_type": "execute_result",
          "data": {
            "text/plain": [
              "SpearmanrResult(correlation=0.45047261889576046, pvalue=1.90950387054769e-13)"
            ]
          },
          "metadata": {},
          "execution_count": 133
        }
      ],
      "source": [
        "test_ranks = pd.Series(hybrid.rating_actual).rank()\n",
        "pred_ranks = pd.Series(hybrid.rating_pred).rank()\n",
        "stats.spearmanr(test_ranks, pred_ranks)"
      ]
    }
  ],
  "metadata": {
    "accelerator": "GPU",
    "colab": {
      "collapsed_sections": [],
      "machine_shape": "hm",
      "name": "SML IW.ipynb",
      "provenance": [],
      "toc_visible": true
    },
    "kernelspec": {
      "display_name": "Python 3",
      "name": "python3"
    },
    "language_info": {
      "name": "python"
    }
  },
  "nbformat": 4,
  "nbformat_minor": 0
}